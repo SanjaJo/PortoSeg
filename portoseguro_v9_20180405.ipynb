{
  "cells": [
    {
      "metadata": {
        "_cell_guid": "eb7e05b9-4a99-470d-9a59-00d2fedf5cc0",
        "_uuid": "6845662173f92d66f6316b6d25ab178169dcc44a"
      },
      "cell_type": "markdown",
      "source": "<h2> Imports </h2>"
    },
    {
      "metadata": {
        "_cell_guid": "6249710b-63e2-4fe9-b36a-f631702dd407",
        "_uuid": "b81564979a901c1abdb89a42fc945f4ce3beaa83",
        "trusted": true
      },
      "cell_type": "code",
      "source": "# This Python 3 environment comes with many helpful analytics libraries installed\n# It is defined by the kaggle/python docker image: https://github.com/kaggle/docker-python\n# For example, here's several helpful packages to load in \n\nimport warnings\nwarnings.filterwarnings(\"ignore\")\n\n#import libraries\nimport numpy as np \nimport pandas as pd # data processing, CSV file I/O (e.g. pd.read_csv)\nfrom pandas import DataFrame\nimport seaborn as sns \nimport matplotlib.pyplot as plt\n\n#other imports\nfrom sklearn.preprocessing import Imputer\nfrom sklearn.preprocessing import StandardScaler\nfrom sklearn.feature_selection import VarianceThreshold\nfrom sklearn.feature_selection import SelectFromModel\nfrom imblearn.over_sampling import SMOTE\nfrom sklearn.grid_search import GridSearchCV\nfrom imblearn.under_sampling import TomekLinks\nfrom imblearn.under_sampling import RandomUnderSampler\n\n#import metrics\nfrom sklearn import cross_validation\nfrom sklearn.model_selection import KFold\nfrom sklearn.metrics import confusion_matrix\nfrom sklearn.metrics import average_precision_score\nfrom sklearn.metrics import accuracy_score\nfrom sklearn.metrics import precision_recall_fscore_support\nfrom sklearn.metrics import classification_report\nfrom sklearn.metrics import roc_curve, auc\nfrom collections import Counter\n\n#import classifiers\nfrom sklearn.ensemble import RandomForestClassifier\nfrom sklearn.neighbors import KNeighborsClassifier\nfrom sklearn.ensemble import AdaBoostClassifier\nfrom sklearn.tree import DecisionTreeClassifier\nfrom xgboost import XGBClassifier\n\n#shows automatically the plots - no more plt.show() needed!\n%matplotlib inline \n#increase label size\nimport matplotlib \nfont = {'family' : 'normal',\n        'weight' : 'bold',\n        'size'   : 15}\nmatplotlib.rc('font', **font)\n\n#allow to display all columns\npd.set_option('display.max_columns', 100)\n\n# Input data files are available in the \"../input/\" directory.\n# For example, running this (by clicking run or pressing Shift+Enter) will list the files in the input directory\n\n#from subprocess import check_output\n#print(check_output([\"ls\", \"../input\"]).decode(\"utf8\"))\n\n# Any results you write to the current directory are saved as output.",
      "execution_count": 1,
      "outputs": [
        {
          "output_type": "stream",
          "text": "/opt/conda/lib/python3.6/site-packages/sklearn/cross_validation.py:41: DeprecationWarning: This module was deprecated in version 0.18 in favor of the model_selection module into which all the refactored classes and functions are moved. Also note that the interface of the new CV iterators are different from that of this module. This module will be removed in 0.20.\n  \"This module will be removed in 0.20.\", DeprecationWarning)\n/opt/conda/lib/python3.6/site-packages/sklearn/grid_search.py:42: DeprecationWarning: This module was deprecated in version 0.18 in favor of the model_selection module into which all the refactored classes and functions are moved. This module will be removed in 0.20.\n  DeprecationWarning)\n",
          "name": "stderr"
        }
      ]
    },
    {
      "metadata": {
        "_cell_guid": "4ce6d63a-ea81-4c9b-b9a0-9e3392e33fb6",
        "_uuid": "c8fbfd142bdc3f55a94a169b618f89f67862ea68"
      },
      "cell_type": "markdown",
      "source": "<h3>Read the Data </h3>"
    },
    {
      "metadata": {
        "_cell_guid": "a7f014b0-22ab-459b-9ec5-579c8832a42f",
        "collapsed": true,
        "_uuid": "d7b7e5237c86b7f503dc8af0620ddd9f2458510d",
        "trusted": true
      },
      "cell_type": "code",
      "source": "#import the training data as pandas dataframe\ntrain = pd.read_csv('../input/train.csv')",
      "execution_count": 2,
      "outputs": []
    },
    {
      "metadata": {
        "_cell_guid": "1970abd2-c774-49bd-927a-0477ec55cb96",
        "collapsed": true,
        "_uuid": "50b92ee7e6b97da32cb545c25296526265de756d",
        "trusted": false
      },
      "cell_type": "code",
      "source": "#import the test data as pandas dataframe\ntest = pd.read_csv('../input/test.csv')",
      "execution_count": null,
      "outputs": []
    },
    {
      "metadata": {
        "_cell_guid": "4b960427-cfea-470e-a1d9-b5a7100596d2",
        "_uuid": "13c655ded188dc0363cf40f317f52ee18220e679",
        "trusted": true
      },
      "cell_type": "code",
      "source": "#let's take a look at the top 10 instances\ntrain.head(10)",
      "execution_count": 6,
      "outputs": [
        {
          "output_type": "execute_result",
          "execution_count": 6,
          "data": {
            "text/plain": "   id  ps_ind_01  ps_ind_02_cat  ps_ind_03  ps_ind_04_cat  ps_ind_05_cat  \\\n0   7          2              2          5              1              0   \n1   9          1              1          7              0              0   \n2  13          5              4          9              1              0   \n3  16          0              1          2              0              0   \n4  17          0              2          0              1              0   \n5  19          5              1          4              0              0   \n6  20          2              1          3              1              0   \n7  22          5              1          4              0              0   \n8  26          5              1          3              1              0   \n9  28          1              1          2              0              0   \n\n   ps_ind_06_bin  ps_ind_07_bin  ps_ind_08_bin  ps_ind_09_bin  ps_ind_10_bin  \\\n0              0              1              0              0              0   \n1              0              0              1              0              0   \n2              0              0              1              0              0   \n3              1              0              0              0              0   \n4              1              0              0              0              0   \n5              0              0              0              1              0   \n6              0              1              0              0              0   \n7              1              0              0              0              0   \n8              0              0              1              0              0   \n9              0              1              0              0              0   \n\n   ps_ind_11_bin  ps_ind_12_bin  ps_ind_13_bin  ps_ind_14  ps_ind_15  \\\n0              0              0              0          0         11   \n1              0              0              0          0          3   \n2              0              0              0          0         12   \n3              0              0              0          0          8   \n4              0              0              0          0          9   \n5              0              0              0          0          6   \n6              0              0              0          0          8   \n7              0              0              0          0         13   \n8              0              0              0          0          6   \n9              0              0              0          0          4   \n\n   ps_ind_16_bin  ps_ind_17_bin  ps_ind_18_bin  ps_reg_01  ps_reg_02  \\\n0              0              1              0        0.7        0.2   \n1              0              0              1        0.8        0.4   \n2              1              0              0        0.0        0.0   \n3              1              0              0        0.9        0.2   \n4              1              0              0        0.7        0.6   \n5              1              0              0        0.9        1.8   \n6              1              0              0        0.6        0.1   \n7              1              0              0        0.7        0.4   \n8              1              0              0        0.9        0.7   \n9              0              0              1        0.9        1.4   \n\n   ps_reg_03  ps_car_01_cat  ps_car_02_cat  ps_car_03_cat  ps_car_04_cat  \\\n0   0.718070             10              1             -1              0   \n1   0.766078             11              1             -1              0   \n2  -1.000000              7              1             -1              0   \n3   0.580948              7              1              0              0   \n4   0.840759             11              1             -1              0   \n5   2.332649             10              0             -1              0   \n6   0.617454              6              1             -1              0   \n7   0.607248             11              1              0              0   \n8   0.901388             10              1             -1              0   \n9   2.316652             11              0              0              1   \n\n   ps_car_05_cat  ps_car_06_cat  ps_car_07_cat  ps_car_08_cat  ps_car_09_cat  \\\n0              1              4              1              0              0   \n1             -1             11              1              1              2   \n2             -1             14              1              1              2   \n3              1             11              1              1              3   \n4             -1             14              1              1              2   \n5              0             14              1              1              0   \n6              1             11              1              1              0   \n7              0             11              1              1              2   \n8              1             14              1              1              0   \n9              0             14              1              1              2   \n\n   ps_car_10_cat  ps_car_11_cat  ps_car_11  ps_car_12  ps_car_13  ps_car_14  \\\n0              1             12          2   0.400000   0.883679   0.370810   \n1              1             19          3   0.316228   0.618817   0.388716   \n2              1             60          1   0.316228   0.641586   0.347275   \n3              1            104          1   0.374166   0.542949   0.294958   \n4              1             82          3   0.316070   0.565832   0.365103   \n5              1            104          2   0.445982   0.879049   0.406202   \n6              1             99          2   0.316228   0.639683   0.368782   \n7              1             30          3   0.446990   0.900574   0.374833   \n8              1             68          3   0.400000   0.780641   0.407431   \n9              1            104          2   0.447214   1.458184   0.390256   \n\n   ps_car_15  ps_calc_01  ps_calc_02  ps_calc_03  ps_calc_04  ps_calc_05  \\\n0   3.605551         0.6         0.5         0.2           3           1   \n1   2.449490         0.3         0.1         0.3           2           1   \n2   3.316625         0.5         0.7         0.1           2           2   \n3   2.000000         0.6         0.9         0.1           2           4   \n4   2.000000         0.4         0.6         0.0           2           2   \n5   3.000000         0.7         0.8         0.4           3           1   \n6   3.162278         0.2         0.6         0.5           2           2   \n7   3.316625         0.1         0.5         0.1           1           2   \n8   2.828427         0.9         0.8         0.6           3           1   \n9   3.605551         0.7         0.8         0.8           2           2   \n\n   ps_calc_06  ps_calc_07  ps_calc_08  ps_calc_09  ps_calc_10  ps_calc_11  \\\n0          10           1          10           1           5           9   \n1           9           5           8           1           7           3   \n2           9           1           8           2           7           4   \n3           7           1           8           4           2           2   \n4           6           3          10           2          12           3   \n5           8           2          11           3           8           4   \n6           8           1           8           3          10           3   \n7           7           1           6           1          13           7   \n8           7           3           9           4          11           4   \n9           8           2           9           1          11           3   \n\n   ps_calc_12  ps_calc_13  ps_calc_14  ps_calc_15_bin  ps_calc_16_bin  \\\n0           1           5           8               0               1   \n1           1           1           9               0               1   \n2           2           7           7               0               1   \n3           2           4           9               0               0   \n4           1           1           3               0               0   \n5           2           0           9               0               1   \n6           0           0          10               0               1   \n7           1           3           6               1               0   \n8           2           1           5               0               1   \n9           5           0           6               0               1   \n\n   ps_calc_17_bin  ps_calc_18_bin  ps_calc_19_bin  ps_calc_20_bin  \n0               1               0               0               1  \n1               1               0               1               0  \n2               1               0               1               0  \n3               0               0               0               0  \n4               0               1               1               0  \n5               0               1               1               1  \n6               0               0               1               0  \n7               1               0               1               0  \n8               0               0               0               1  \n9               0               0               1               0  ",
            "text/html": "<div>\n<style scoped>\n    .dataframe tbody tr th:only-of-type {\n        vertical-align: middle;\n    }\n\n    .dataframe tbody tr th {\n        vertical-align: top;\n    }\n\n    .dataframe thead th {\n        text-align: right;\n    }\n</style>\n<table border=\"1\" class=\"dataframe\">\n  <thead>\n    <tr style=\"text-align: right;\">\n      <th></th>\n      <th>id</th>\n      <th>ps_ind_01</th>\n      <th>ps_ind_02_cat</th>\n      <th>ps_ind_03</th>\n      <th>ps_ind_04_cat</th>\n      <th>ps_ind_05_cat</th>\n      <th>ps_ind_06_bin</th>\n      <th>ps_ind_07_bin</th>\n      <th>ps_ind_08_bin</th>\n      <th>ps_ind_09_bin</th>\n      <th>ps_ind_10_bin</th>\n      <th>ps_ind_11_bin</th>\n      <th>ps_ind_12_bin</th>\n      <th>ps_ind_13_bin</th>\n      <th>ps_ind_14</th>\n      <th>ps_ind_15</th>\n      <th>ps_ind_16_bin</th>\n      <th>ps_ind_17_bin</th>\n      <th>ps_ind_18_bin</th>\n      <th>ps_reg_01</th>\n      <th>ps_reg_02</th>\n      <th>ps_reg_03</th>\n      <th>ps_car_01_cat</th>\n      <th>ps_car_02_cat</th>\n      <th>ps_car_03_cat</th>\n      <th>ps_car_04_cat</th>\n      <th>ps_car_05_cat</th>\n      <th>ps_car_06_cat</th>\n      <th>ps_car_07_cat</th>\n      <th>ps_car_08_cat</th>\n      <th>ps_car_09_cat</th>\n      <th>ps_car_10_cat</th>\n      <th>ps_car_11_cat</th>\n      <th>ps_car_11</th>\n      <th>ps_car_12</th>\n      <th>ps_car_13</th>\n      <th>ps_car_14</th>\n      <th>ps_car_15</th>\n      <th>ps_calc_01</th>\n      <th>ps_calc_02</th>\n      <th>ps_calc_03</th>\n      <th>ps_calc_04</th>\n      <th>ps_calc_05</th>\n      <th>ps_calc_06</th>\n      <th>ps_calc_07</th>\n      <th>ps_calc_08</th>\n      <th>ps_calc_09</th>\n      <th>ps_calc_10</th>\n      <th>ps_calc_11</th>\n      <th>ps_calc_12</th>\n      <th>ps_calc_13</th>\n      <th>ps_calc_14</th>\n      <th>ps_calc_15_bin</th>\n      <th>ps_calc_16_bin</th>\n      <th>ps_calc_17_bin</th>\n      <th>ps_calc_18_bin</th>\n      <th>ps_calc_19_bin</th>\n      <th>ps_calc_20_bin</th>\n    </tr>\n  </thead>\n  <tbody>\n    <tr>\n      <th>0</th>\n      <td>7</td>\n      <td>2</td>\n      <td>2</td>\n      <td>5</td>\n      <td>1</td>\n      <td>0</td>\n      <td>0</td>\n      <td>1</td>\n      <td>0</td>\n      <td>0</td>\n      <td>0</td>\n      <td>0</td>\n      <td>0</td>\n      <td>0</td>\n      <td>0</td>\n      <td>11</td>\n      <td>0</td>\n      <td>1</td>\n      <td>0</td>\n      <td>0.7</td>\n      <td>0.2</td>\n      <td>0.718070</td>\n      <td>10</td>\n      <td>1</td>\n      <td>-1</td>\n      <td>0</td>\n      <td>1</td>\n      <td>4</td>\n      <td>1</td>\n      <td>0</td>\n      <td>0</td>\n      <td>1</td>\n      <td>12</td>\n      <td>2</td>\n      <td>0.400000</td>\n      <td>0.883679</td>\n      <td>0.370810</td>\n      <td>3.605551</td>\n      <td>0.6</td>\n      <td>0.5</td>\n      <td>0.2</td>\n      <td>3</td>\n      <td>1</td>\n      <td>10</td>\n      <td>1</td>\n      <td>10</td>\n      <td>1</td>\n      <td>5</td>\n      <td>9</td>\n      <td>1</td>\n      <td>5</td>\n      <td>8</td>\n      <td>0</td>\n      <td>1</td>\n      <td>1</td>\n      <td>0</td>\n      <td>0</td>\n      <td>1</td>\n    </tr>\n    <tr>\n      <th>1</th>\n      <td>9</td>\n      <td>1</td>\n      <td>1</td>\n      <td>7</td>\n      <td>0</td>\n      <td>0</td>\n      <td>0</td>\n      <td>0</td>\n      <td>1</td>\n      <td>0</td>\n      <td>0</td>\n      <td>0</td>\n      <td>0</td>\n      <td>0</td>\n      <td>0</td>\n      <td>3</td>\n      <td>0</td>\n      <td>0</td>\n      <td>1</td>\n      <td>0.8</td>\n      <td>0.4</td>\n      <td>0.766078</td>\n      <td>11</td>\n      <td>1</td>\n      <td>-1</td>\n      <td>0</td>\n      <td>-1</td>\n      <td>11</td>\n      <td>1</td>\n      <td>1</td>\n      <td>2</td>\n      <td>1</td>\n      <td>19</td>\n      <td>3</td>\n      <td>0.316228</td>\n      <td>0.618817</td>\n      <td>0.388716</td>\n      <td>2.449490</td>\n      <td>0.3</td>\n      <td>0.1</td>\n      <td>0.3</td>\n      <td>2</td>\n      <td>1</td>\n      <td>9</td>\n      <td>5</td>\n      <td>8</td>\n      <td>1</td>\n      <td>7</td>\n      <td>3</td>\n      <td>1</td>\n      <td>1</td>\n      <td>9</td>\n      <td>0</td>\n      <td>1</td>\n      <td>1</td>\n      <td>0</td>\n      <td>1</td>\n      <td>0</td>\n    </tr>\n    <tr>\n      <th>2</th>\n      <td>13</td>\n      <td>5</td>\n      <td>4</td>\n      <td>9</td>\n      <td>1</td>\n      <td>0</td>\n      <td>0</td>\n      <td>0</td>\n      <td>1</td>\n      <td>0</td>\n      <td>0</td>\n      <td>0</td>\n      <td>0</td>\n      <td>0</td>\n      <td>0</td>\n      <td>12</td>\n      <td>1</td>\n      <td>0</td>\n      <td>0</td>\n      <td>0.0</td>\n      <td>0.0</td>\n      <td>-1.000000</td>\n      <td>7</td>\n      <td>1</td>\n      <td>-1</td>\n      <td>0</td>\n      <td>-1</td>\n      <td>14</td>\n      <td>1</td>\n      <td>1</td>\n      <td>2</td>\n      <td>1</td>\n      <td>60</td>\n      <td>1</td>\n      <td>0.316228</td>\n      <td>0.641586</td>\n      <td>0.347275</td>\n      <td>3.316625</td>\n      <td>0.5</td>\n      <td>0.7</td>\n      <td>0.1</td>\n      <td>2</td>\n      <td>2</td>\n      <td>9</td>\n      <td>1</td>\n      <td>8</td>\n      <td>2</td>\n      <td>7</td>\n      <td>4</td>\n      <td>2</td>\n      <td>7</td>\n      <td>7</td>\n      <td>0</td>\n      <td>1</td>\n      <td>1</td>\n      <td>0</td>\n      <td>1</td>\n      <td>0</td>\n    </tr>\n    <tr>\n      <th>3</th>\n      <td>16</td>\n      <td>0</td>\n      <td>1</td>\n      <td>2</td>\n      <td>0</td>\n      <td>0</td>\n      <td>1</td>\n      <td>0</td>\n      <td>0</td>\n      <td>0</td>\n      <td>0</td>\n      <td>0</td>\n      <td>0</td>\n      <td>0</td>\n      <td>0</td>\n      <td>8</td>\n      <td>1</td>\n      <td>0</td>\n      <td>0</td>\n      <td>0.9</td>\n      <td>0.2</td>\n      <td>0.580948</td>\n      <td>7</td>\n      <td>1</td>\n      <td>0</td>\n      <td>0</td>\n      <td>1</td>\n      <td>11</td>\n      <td>1</td>\n      <td>1</td>\n      <td>3</td>\n      <td>1</td>\n      <td>104</td>\n      <td>1</td>\n      <td>0.374166</td>\n      <td>0.542949</td>\n      <td>0.294958</td>\n      <td>2.000000</td>\n      <td>0.6</td>\n      <td>0.9</td>\n      <td>0.1</td>\n      <td>2</td>\n      <td>4</td>\n      <td>7</td>\n      <td>1</td>\n      <td>8</td>\n      <td>4</td>\n      <td>2</td>\n      <td>2</td>\n      <td>2</td>\n      <td>4</td>\n      <td>9</td>\n      <td>0</td>\n      <td>0</td>\n      <td>0</td>\n      <td>0</td>\n      <td>0</td>\n      <td>0</td>\n    </tr>\n    <tr>\n      <th>4</th>\n      <td>17</td>\n      <td>0</td>\n      <td>2</td>\n      <td>0</td>\n      <td>1</td>\n      <td>0</td>\n      <td>1</td>\n      <td>0</td>\n      <td>0</td>\n      <td>0</td>\n      <td>0</td>\n      <td>0</td>\n      <td>0</td>\n      <td>0</td>\n      <td>0</td>\n      <td>9</td>\n      <td>1</td>\n      <td>0</td>\n      <td>0</td>\n      <td>0.7</td>\n      <td>0.6</td>\n      <td>0.840759</td>\n      <td>11</td>\n      <td>1</td>\n      <td>-1</td>\n      <td>0</td>\n      <td>-1</td>\n      <td>14</td>\n      <td>1</td>\n      <td>1</td>\n      <td>2</td>\n      <td>1</td>\n      <td>82</td>\n      <td>3</td>\n      <td>0.316070</td>\n      <td>0.565832</td>\n      <td>0.365103</td>\n      <td>2.000000</td>\n      <td>0.4</td>\n      <td>0.6</td>\n      <td>0.0</td>\n      <td>2</td>\n      <td>2</td>\n      <td>6</td>\n      <td>3</td>\n      <td>10</td>\n      <td>2</td>\n      <td>12</td>\n      <td>3</td>\n      <td>1</td>\n      <td>1</td>\n      <td>3</td>\n      <td>0</td>\n      <td>0</td>\n      <td>0</td>\n      <td>1</td>\n      <td>1</td>\n      <td>0</td>\n    </tr>\n    <tr>\n      <th>5</th>\n      <td>19</td>\n      <td>5</td>\n      <td>1</td>\n      <td>4</td>\n      <td>0</td>\n      <td>0</td>\n      <td>0</td>\n      <td>0</td>\n      <td>0</td>\n      <td>1</td>\n      <td>0</td>\n      <td>0</td>\n      <td>0</td>\n      <td>0</td>\n      <td>0</td>\n      <td>6</td>\n      <td>1</td>\n      <td>0</td>\n      <td>0</td>\n      <td>0.9</td>\n      <td>1.8</td>\n      <td>2.332649</td>\n      <td>10</td>\n      <td>0</td>\n      <td>-1</td>\n      <td>0</td>\n      <td>0</td>\n      <td>14</td>\n      <td>1</td>\n      <td>1</td>\n      <td>0</td>\n      <td>1</td>\n      <td>104</td>\n      <td>2</td>\n      <td>0.445982</td>\n      <td>0.879049</td>\n      <td>0.406202</td>\n      <td>3.000000</td>\n      <td>0.7</td>\n      <td>0.8</td>\n      <td>0.4</td>\n      <td>3</td>\n      <td>1</td>\n      <td>8</td>\n      <td>2</td>\n      <td>11</td>\n      <td>3</td>\n      <td>8</td>\n      <td>4</td>\n      <td>2</td>\n      <td>0</td>\n      <td>9</td>\n      <td>0</td>\n      <td>1</td>\n      <td>0</td>\n      <td>1</td>\n      <td>1</td>\n      <td>1</td>\n    </tr>\n    <tr>\n      <th>6</th>\n      <td>20</td>\n      <td>2</td>\n      <td>1</td>\n      <td>3</td>\n      <td>1</td>\n      <td>0</td>\n      <td>0</td>\n      <td>1</td>\n      <td>0</td>\n      <td>0</td>\n      <td>0</td>\n      <td>0</td>\n      <td>0</td>\n      <td>0</td>\n      <td>0</td>\n      <td>8</td>\n      <td>1</td>\n      <td>0</td>\n      <td>0</td>\n      <td>0.6</td>\n      <td>0.1</td>\n      <td>0.617454</td>\n      <td>6</td>\n      <td>1</td>\n      <td>-1</td>\n      <td>0</td>\n      <td>1</td>\n      <td>11</td>\n      <td>1</td>\n      <td>1</td>\n      <td>0</td>\n      <td>1</td>\n      <td>99</td>\n      <td>2</td>\n      <td>0.316228</td>\n      <td>0.639683</td>\n      <td>0.368782</td>\n      <td>3.162278</td>\n      <td>0.2</td>\n      <td>0.6</td>\n      <td>0.5</td>\n      <td>2</td>\n      <td>2</td>\n      <td>8</td>\n      <td>1</td>\n      <td>8</td>\n      <td>3</td>\n      <td>10</td>\n      <td>3</td>\n      <td>0</td>\n      <td>0</td>\n      <td>10</td>\n      <td>0</td>\n      <td>1</td>\n      <td>0</td>\n      <td>0</td>\n      <td>1</td>\n      <td>0</td>\n    </tr>\n    <tr>\n      <th>7</th>\n      <td>22</td>\n      <td>5</td>\n      <td>1</td>\n      <td>4</td>\n      <td>0</td>\n      <td>0</td>\n      <td>1</td>\n      <td>0</td>\n      <td>0</td>\n      <td>0</td>\n      <td>0</td>\n      <td>0</td>\n      <td>0</td>\n      <td>0</td>\n      <td>0</td>\n      <td>13</td>\n      <td>1</td>\n      <td>0</td>\n      <td>0</td>\n      <td>0.7</td>\n      <td>0.4</td>\n      <td>0.607248</td>\n      <td>11</td>\n      <td>1</td>\n      <td>0</td>\n      <td>0</td>\n      <td>0</td>\n      <td>11</td>\n      <td>1</td>\n      <td>1</td>\n      <td>2</td>\n      <td>1</td>\n      <td>30</td>\n      <td>3</td>\n      <td>0.446990</td>\n      <td>0.900574</td>\n      <td>0.374833</td>\n      <td>3.316625</td>\n      <td>0.1</td>\n      <td>0.5</td>\n      <td>0.1</td>\n      <td>1</td>\n      <td>2</td>\n      <td>7</td>\n      <td>1</td>\n      <td>6</td>\n      <td>1</td>\n      <td>13</td>\n      <td>7</td>\n      <td>1</td>\n      <td>3</td>\n      <td>6</td>\n      <td>1</td>\n      <td>0</td>\n      <td>1</td>\n      <td>0</td>\n      <td>1</td>\n      <td>0</td>\n    </tr>\n    <tr>\n      <th>8</th>\n      <td>26</td>\n      <td>5</td>\n      <td>1</td>\n      <td>3</td>\n      <td>1</td>\n      <td>0</td>\n      <td>0</td>\n      <td>0</td>\n      <td>1</td>\n      <td>0</td>\n      <td>0</td>\n      <td>0</td>\n      <td>0</td>\n      <td>0</td>\n      <td>0</td>\n      <td>6</td>\n      <td>1</td>\n      <td>0</td>\n      <td>0</td>\n      <td>0.9</td>\n      <td>0.7</td>\n      <td>0.901388</td>\n      <td>10</td>\n      <td>1</td>\n      <td>-1</td>\n      <td>0</td>\n      <td>1</td>\n      <td>14</td>\n      <td>1</td>\n      <td>1</td>\n      <td>0</td>\n      <td>1</td>\n      <td>68</td>\n      <td>3</td>\n      <td>0.400000</td>\n      <td>0.780641</td>\n      <td>0.407431</td>\n      <td>2.828427</td>\n      <td>0.9</td>\n      <td>0.8</td>\n      <td>0.6</td>\n      <td>3</td>\n      <td>1</td>\n      <td>7</td>\n      <td>3</td>\n      <td>9</td>\n      <td>4</td>\n      <td>11</td>\n      <td>4</td>\n      <td>2</td>\n      <td>1</td>\n      <td>5</td>\n      <td>0</td>\n      <td>1</td>\n      <td>0</td>\n      <td>0</td>\n      <td>0</td>\n      <td>1</td>\n    </tr>\n    <tr>\n      <th>9</th>\n      <td>28</td>\n      <td>1</td>\n      <td>1</td>\n      <td>2</td>\n      <td>0</td>\n      <td>0</td>\n      <td>0</td>\n      <td>1</td>\n      <td>0</td>\n      <td>0</td>\n      <td>0</td>\n      <td>0</td>\n      <td>0</td>\n      <td>0</td>\n      <td>0</td>\n      <td>4</td>\n      <td>0</td>\n      <td>0</td>\n      <td>1</td>\n      <td>0.9</td>\n      <td>1.4</td>\n      <td>2.316652</td>\n      <td>11</td>\n      <td>0</td>\n      <td>0</td>\n      <td>1</td>\n      <td>0</td>\n      <td>14</td>\n      <td>1</td>\n      <td>1</td>\n      <td>2</td>\n      <td>1</td>\n      <td>104</td>\n      <td>2</td>\n      <td>0.447214</td>\n      <td>1.458184</td>\n      <td>0.390256</td>\n      <td>3.605551</td>\n      <td>0.7</td>\n      <td>0.8</td>\n      <td>0.8</td>\n      <td>2</td>\n      <td>2</td>\n      <td>8</td>\n      <td>2</td>\n      <td>9</td>\n      <td>1</td>\n      <td>11</td>\n      <td>3</td>\n      <td>5</td>\n      <td>0</td>\n      <td>6</td>\n      <td>0</td>\n      <td>1</td>\n      <td>0</td>\n      <td>0</td>\n      <td>1</td>\n      <td>0</td>\n    </tr>\n  </tbody>\n</table>\n</div>"
          },
          "metadata": {}
        }
      ]
    },
    {
      "metadata": {
        "_cell_guid": "af6a819c-72f8-46cf-8434-4145b4ee3d64",
        "collapsed": true,
        "_uuid": "152359dbf138a09a89d560dec863d5cbd35fda63",
        "trusted": false
      },
      "cell_type": "code",
      "source": "#top 10 instances of the test dataset\ntest.head(10)",
      "execution_count": null,
      "outputs": []
    },
    {
      "metadata": {
        "_cell_guid": "1641c828-d74c-4b79-8ba2-672d9813c5dc",
        "collapsed": true,
        "_uuid": "8a735a1b8c66cac4c1c94fcf91cf59ed7e72eefe",
        "trusted": true
      },
      "cell_type": "code",
      "source": "#I placed the following before so i can work on oversampling later on . \n#drop target from train !\nlabel = train['target']\ntrain = train.drop(['target'], axis=1)\ncols=train.columns",
      "execution_count": 3,
      "outputs": []
    },
    {
      "metadata": {
        "_cell_guid": "bd60b695-14e5-44e4-a6a6-1356d779df80",
        "_uuid": "3b10f9efd724e10f4bcb725d73c69b30b54bf99f"
      },
      "cell_type": "markdown",
      "source": "<h3> Grouping into feature Type - used for Data visualization </h3>"
    },
    {
      "metadata": {
        "_cell_guid": "2bdfb3d8-c7bb-41ce-90b6-ea2176e5ddbe",
        "collapsed": true,
        "_uuid": "4c3dd0fc332db53c8a583bb38dea396916d2c77c",
        "trusted": true
      },
      "cell_type": "code",
      "source": "#create grouping for continous, ordinal, categorical and binary to better work with the individual groups\n#code used from Bert Carremans https://www.kaggle.com/bertcarremans/data-preparation-exploration \n\ndata = []\nfor f in train.columns:\n#     # Defining the role\n#     if f == 'target':\n#         role = 'target'\n#     elif f == 'id':\n#         role = 'id'\n#     else:\n#         role = 'input'\n         \n    # Defining the level\n    if 'bin' in f or f == 'target':\n        level = 'binary'\n    elif 'cat' in f:\n        level = 'nominal'\n    elif f == 'id':\n        level='id'\n    elif train[f].dtype == float:\n        level = 'interval'\n    elif train[f].dtype == int:\n        level = 'ordinal'\n\n    \n    # Creating a Dict that contains all the metadata for the variable\n    fdict = {\n        'varname': f,\n        #'role': role,\n        'level': level\n    }\n    data.append(fdict)\n    \nmeta = pd.DataFrame(data, columns=['varname', 'level'])\nmeta.set_index('varname', inplace=True)",
      "execution_count": 4,
      "outputs": []
    },
    {
      "metadata": {
        "_cell_guid": "fbcd6ddd-6aa1-4a91-b439-fa1356da4089",
        "_uuid": "09faa2866f473f2d04f59ce5764288c604ab5cca",
        "trusted": true
      },
      "cell_type": "code",
      "source": "meta",
      "execution_count": 5,
      "outputs": [
        {
          "output_type": "execute_result",
          "execution_count": 5,
          "data": {
            "text/plain": "                   level\nvarname                 \nid                    id\nps_ind_01        ordinal\nps_ind_02_cat    nominal\nps_ind_03        ordinal\nps_ind_04_cat    nominal\nps_ind_05_cat    nominal\nps_ind_06_bin     binary\nps_ind_07_bin     binary\nps_ind_08_bin     binary\nps_ind_09_bin     binary\nps_ind_10_bin     binary\nps_ind_11_bin     binary\nps_ind_12_bin     binary\nps_ind_13_bin     binary\nps_ind_14        ordinal\nps_ind_15        ordinal\nps_ind_16_bin     binary\nps_ind_17_bin     binary\nps_ind_18_bin     binary\nps_reg_01       interval\nps_reg_02       interval\nps_reg_03       interval\nps_car_01_cat    nominal\nps_car_02_cat    nominal\nps_car_03_cat    nominal\nps_car_04_cat    nominal\nps_car_05_cat    nominal\nps_car_06_cat    nominal\nps_car_07_cat    nominal\nps_car_08_cat    nominal\nps_car_09_cat    nominal\nps_car_10_cat    nominal\nps_car_11_cat    nominal\nps_car_11        ordinal\nps_car_12       interval\nps_car_13       interval\nps_car_14       interval\nps_car_15       interval\nps_calc_01      interval\nps_calc_02      interval\nps_calc_03      interval\nps_calc_04       ordinal\nps_calc_05       ordinal\nps_calc_06       ordinal\nps_calc_07       ordinal\nps_calc_08       ordinal\nps_calc_09       ordinal\nps_calc_10       ordinal\nps_calc_11       ordinal\nps_calc_12       ordinal\nps_calc_13       ordinal\nps_calc_14       ordinal\nps_calc_15_bin    binary\nps_calc_16_bin    binary\nps_calc_17_bin    binary\nps_calc_18_bin    binary\nps_calc_19_bin    binary\nps_calc_20_bin    binary",
            "text/html": "<div>\n<style scoped>\n    .dataframe tbody tr th:only-of-type {\n        vertical-align: middle;\n    }\n\n    .dataframe tbody tr th {\n        vertical-align: top;\n    }\n\n    .dataframe thead th {\n        text-align: right;\n    }\n</style>\n<table border=\"1\" class=\"dataframe\">\n  <thead>\n    <tr style=\"text-align: right;\">\n      <th></th>\n      <th>level</th>\n    </tr>\n    <tr>\n      <th>varname</th>\n      <th></th>\n    </tr>\n  </thead>\n  <tbody>\n    <tr>\n      <th>id</th>\n      <td>id</td>\n    </tr>\n    <tr>\n      <th>ps_ind_01</th>\n      <td>ordinal</td>\n    </tr>\n    <tr>\n      <th>ps_ind_02_cat</th>\n      <td>nominal</td>\n    </tr>\n    <tr>\n      <th>ps_ind_03</th>\n      <td>ordinal</td>\n    </tr>\n    <tr>\n      <th>ps_ind_04_cat</th>\n      <td>nominal</td>\n    </tr>\n    <tr>\n      <th>ps_ind_05_cat</th>\n      <td>nominal</td>\n    </tr>\n    <tr>\n      <th>ps_ind_06_bin</th>\n      <td>binary</td>\n    </tr>\n    <tr>\n      <th>ps_ind_07_bin</th>\n      <td>binary</td>\n    </tr>\n    <tr>\n      <th>ps_ind_08_bin</th>\n      <td>binary</td>\n    </tr>\n    <tr>\n      <th>ps_ind_09_bin</th>\n      <td>binary</td>\n    </tr>\n    <tr>\n      <th>ps_ind_10_bin</th>\n      <td>binary</td>\n    </tr>\n    <tr>\n      <th>ps_ind_11_bin</th>\n      <td>binary</td>\n    </tr>\n    <tr>\n      <th>ps_ind_12_bin</th>\n      <td>binary</td>\n    </tr>\n    <tr>\n      <th>ps_ind_13_bin</th>\n      <td>binary</td>\n    </tr>\n    <tr>\n      <th>ps_ind_14</th>\n      <td>ordinal</td>\n    </tr>\n    <tr>\n      <th>ps_ind_15</th>\n      <td>ordinal</td>\n    </tr>\n    <tr>\n      <th>ps_ind_16_bin</th>\n      <td>binary</td>\n    </tr>\n    <tr>\n      <th>ps_ind_17_bin</th>\n      <td>binary</td>\n    </tr>\n    <tr>\n      <th>ps_ind_18_bin</th>\n      <td>binary</td>\n    </tr>\n    <tr>\n      <th>ps_reg_01</th>\n      <td>interval</td>\n    </tr>\n    <tr>\n      <th>ps_reg_02</th>\n      <td>interval</td>\n    </tr>\n    <tr>\n      <th>ps_reg_03</th>\n      <td>interval</td>\n    </tr>\n    <tr>\n      <th>ps_car_01_cat</th>\n      <td>nominal</td>\n    </tr>\n    <tr>\n      <th>ps_car_02_cat</th>\n      <td>nominal</td>\n    </tr>\n    <tr>\n      <th>ps_car_03_cat</th>\n      <td>nominal</td>\n    </tr>\n    <tr>\n      <th>ps_car_04_cat</th>\n      <td>nominal</td>\n    </tr>\n    <tr>\n      <th>ps_car_05_cat</th>\n      <td>nominal</td>\n    </tr>\n    <tr>\n      <th>ps_car_06_cat</th>\n      <td>nominal</td>\n    </tr>\n    <tr>\n      <th>ps_car_07_cat</th>\n      <td>nominal</td>\n    </tr>\n    <tr>\n      <th>ps_car_08_cat</th>\n      <td>nominal</td>\n    </tr>\n    <tr>\n      <th>ps_car_09_cat</th>\n      <td>nominal</td>\n    </tr>\n    <tr>\n      <th>ps_car_10_cat</th>\n      <td>nominal</td>\n    </tr>\n    <tr>\n      <th>ps_car_11_cat</th>\n      <td>nominal</td>\n    </tr>\n    <tr>\n      <th>ps_car_11</th>\n      <td>ordinal</td>\n    </tr>\n    <tr>\n      <th>ps_car_12</th>\n      <td>interval</td>\n    </tr>\n    <tr>\n      <th>ps_car_13</th>\n      <td>interval</td>\n    </tr>\n    <tr>\n      <th>ps_car_14</th>\n      <td>interval</td>\n    </tr>\n    <tr>\n      <th>ps_car_15</th>\n      <td>interval</td>\n    </tr>\n    <tr>\n      <th>ps_calc_01</th>\n      <td>interval</td>\n    </tr>\n    <tr>\n      <th>ps_calc_02</th>\n      <td>interval</td>\n    </tr>\n    <tr>\n      <th>ps_calc_03</th>\n      <td>interval</td>\n    </tr>\n    <tr>\n      <th>ps_calc_04</th>\n      <td>ordinal</td>\n    </tr>\n    <tr>\n      <th>ps_calc_05</th>\n      <td>ordinal</td>\n    </tr>\n    <tr>\n      <th>ps_calc_06</th>\n      <td>ordinal</td>\n    </tr>\n    <tr>\n      <th>ps_calc_07</th>\n      <td>ordinal</td>\n    </tr>\n    <tr>\n      <th>ps_calc_08</th>\n      <td>ordinal</td>\n    </tr>\n    <tr>\n      <th>ps_calc_09</th>\n      <td>ordinal</td>\n    </tr>\n    <tr>\n      <th>ps_calc_10</th>\n      <td>ordinal</td>\n    </tr>\n    <tr>\n      <th>ps_calc_11</th>\n      <td>ordinal</td>\n    </tr>\n    <tr>\n      <th>ps_calc_12</th>\n      <td>ordinal</td>\n    </tr>\n    <tr>\n      <th>ps_calc_13</th>\n      <td>ordinal</td>\n    </tr>\n    <tr>\n      <th>ps_calc_14</th>\n      <td>ordinal</td>\n    </tr>\n    <tr>\n      <th>ps_calc_15_bin</th>\n      <td>binary</td>\n    </tr>\n    <tr>\n      <th>ps_calc_16_bin</th>\n      <td>binary</td>\n    </tr>\n    <tr>\n      <th>ps_calc_17_bin</th>\n      <td>binary</td>\n    </tr>\n    <tr>\n      <th>ps_calc_18_bin</th>\n      <td>binary</td>\n    </tr>\n    <tr>\n      <th>ps_calc_19_bin</th>\n      <td>binary</td>\n    </tr>\n    <tr>\n      <th>ps_calc_20_bin</th>\n      <td>binary</td>\n    </tr>\n  </tbody>\n</table>\n</div>"
          },
          "metadata": {}
        }
      ]
    },
    {
      "metadata": {
        "_cell_guid": "f543b779-b18e-46fa-bdb9-5aa9a1513936",
        "_uuid": "fd803ce90f4372800327c228330e7e6083a9658c"
      },
      "cell_type": "markdown",
      "source": "<h3> Descriptive statistics </h3>"
    },
    {
      "metadata": {
        "_cell_guid": "6643ea92-37e9-4e88-a884-e7ead48e260e",
        "_uuid": "d5ecefc9a4a5ac6a7a348e69d728be71454b36bb",
        "trusted": true
      },
      "cell_type": "code",
      "source": "#assing only the continous values to n\ni = meta[(meta.level =='interval')].index \n#.index is needed to return the values\n\n#basic analysis of train data\ntrain[i].describe()",
      "execution_count": 7,
      "outputs": [
        {
          "output_type": "execute_result",
          "execution_count": 7,
          "data": {
            "text/plain": "           ps_reg_01      ps_reg_02      ps_reg_03      ps_car_12  \\\ncount  595212.000000  595212.000000  595212.000000  595212.000000   \nmean        0.610991       0.439184       0.551102       0.379945   \nstd         0.287643       0.404264       0.793506       0.058327   \nmin         0.000000       0.000000      -1.000000      -1.000000   \n25%         0.400000       0.200000       0.525000       0.316228   \n50%         0.700000       0.300000       0.720677       0.374166   \n75%         0.900000       0.600000       1.000000       0.400000   \nmax         0.900000       1.800000       4.037945       1.264911   \n\n           ps_car_13      ps_car_14      ps_car_15     ps_calc_01  \\\ncount  595212.000000  595212.000000  595212.000000  595212.000000   \nmean        0.813265       0.276256       3.065899       0.449756   \nstd         0.224588       0.357154       0.731366       0.287198   \nmin         0.250619      -1.000000       0.000000       0.000000   \n25%         0.670867       0.333167       2.828427       0.200000   \n50%         0.765811       0.368782       3.316625       0.500000   \n75%         0.906190       0.396485       3.605551       0.700000   \nmax         3.720626       0.636396       3.741657       0.900000   \n\n          ps_calc_02     ps_calc_03  \ncount  595212.000000  595212.000000  \nmean        0.449589       0.449849  \nstd         0.286893       0.287153  \nmin         0.000000       0.000000  \n25%         0.200000       0.200000  \n50%         0.400000       0.500000  \n75%         0.700000       0.700000  \nmax         0.900000       0.900000  ",
            "text/html": "<div>\n<style scoped>\n    .dataframe tbody tr th:only-of-type {\n        vertical-align: middle;\n    }\n\n    .dataframe tbody tr th {\n        vertical-align: top;\n    }\n\n    .dataframe thead th {\n        text-align: right;\n    }\n</style>\n<table border=\"1\" class=\"dataframe\">\n  <thead>\n    <tr style=\"text-align: right;\">\n      <th></th>\n      <th>ps_reg_01</th>\n      <th>ps_reg_02</th>\n      <th>ps_reg_03</th>\n      <th>ps_car_12</th>\n      <th>ps_car_13</th>\n      <th>ps_car_14</th>\n      <th>ps_car_15</th>\n      <th>ps_calc_01</th>\n      <th>ps_calc_02</th>\n      <th>ps_calc_03</th>\n    </tr>\n  </thead>\n  <tbody>\n    <tr>\n      <th>count</th>\n      <td>595212.000000</td>\n      <td>595212.000000</td>\n      <td>595212.000000</td>\n      <td>595212.000000</td>\n      <td>595212.000000</td>\n      <td>595212.000000</td>\n      <td>595212.000000</td>\n      <td>595212.000000</td>\n      <td>595212.000000</td>\n      <td>595212.000000</td>\n    </tr>\n    <tr>\n      <th>mean</th>\n      <td>0.610991</td>\n      <td>0.439184</td>\n      <td>0.551102</td>\n      <td>0.379945</td>\n      <td>0.813265</td>\n      <td>0.276256</td>\n      <td>3.065899</td>\n      <td>0.449756</td>\n      <td>0.449589</td>\n      <td>0.449849</td>\n    </tr>\n    <tr>\n      <th>std</th>\n      <td>0.287643</td>\n      <td>0.404264</td>\n      <td>0.793506</td>\n      <td>0.058327</td>\n      <td>0.224588</td>\n      <td>0.357154</td>\n      <td>0.731366</td>\n      <td>0.287198</td>\n      <td>0.286893</td>\n      <td>0.287153</td>\n    </tr>\n    <tr>\n      <th>min</th>\n      <td>0.000000</td>\n      <td>0.000000</td>\n      <td>-1.000000</td>\n      <td>-1.000000</td>\n      <td>0.250619</td>\n      <td>-1.000000</td>\n      <td>0.000000</td>\n      <td>0.000000</td>\n      <td>0.000000</td>\n      <td>0.000000</td>\n    </tr>\n    <tr>\n      <th>25%</th>\n      <td>0.400000</td>\n      <td>0.200000</td>\n      <td>0.525000</td>\n      <td>0.316228</td>\n      <td>0.670867</td>\n      <td>0.333167</td>\n      <td>2.828427</td>\n      <td>0.200000</td>\n      <td>0.200000</td>\n      <td>0.200000</td>\n    </tr>\n    <tr>\n      <th>50%</th>\n      <td>0.700000</td>\n      <td>0.300000</td>\n      <td>0.720677</td>\n      <td>0.374166</td>\n      <td>0.765811</td>\n      <td>0.368782</td>\n      <td>3.316625</td>\n      <td>0.500000</td>\n      <td>0.400000</td>\n      <td>0.500000</td>\n    </tr>\n    <tr>\n      <th>75%</th>\n      <td>0.900000</td>\n      <td>0.600000</td>\n      <td>1.000000</td>\n      <td>0.400000</td>\n      <td>0.906190</td>\n      <td>0.396485</td>\n      <td>3.605551</td>\n      <td>0.700000</td>\n      <td>0.700000</td>\n      <td>0.700000</td>\n    </tr>\n    <tr>\n      <th>max</th>\n      <td>0.900000</td>\n      <td>1.800000</td>\n      <td>4.037945</td>\n      <td>1.264911</td>\n      <td>3.720626</td>\n      <td>0.636396</td>\n      <td>3.741657</td>\n      <td>0.900000</td>\n      <td>0.900000</td>\n      <td>0.900000</td>\n    </tr>\n  </tbody>\n</table>\n</div>"
          },
          "metadata": {}
        }
      ]
    },
    {
      "metadata": {
        "_cell_guid": "bce19233-686f-4498-b7f2-dbca6676b049",
        "_uuid": "ac42ef1eba6df93ee07ca23c33d82e511c481e76"
      },
      "cell_type": "markdown",
      "source": "As we grouped the input variables above into 4 main groups we can deal with them more easily. Instead of looking at the mean, standard deviation and the quartiles of e.g. categorical features, we can only select the features where statistical analysis actually makes sense. \nSome of the continous features have missing values, such as *ps_reg_03*, *ps_car_12* and *ps_car_14*. Later on, we'll look at how much missing data each of the features have and deal with them. "
    },
    {
      "metadata": {
        "_cell_guid": "0649f48d-4315-4c38-a72d-79f4f277a3cd",
        "_uuid": "5a82f918ba9358918c4f0acb2a1f395b075ab6d6",
        "trusted": true
      },
      "cell_type": "code",
      "source": "o = meta[(meta.level == 'ordinal')].index\ntrain[o].describe()",
      "execution_count": 21,
      "outputs": [
        {
          "output_type": "execute_result",
          "execution_count": 21,
          "data": {
            "text/plain": "           ps_ind_01      ps_ind_03      ps_ind_14      ps_ind_15  \\\ncount  595212.000000  595212.000000  595212.000000  595212.000000   \nmean        1.900378       4.423318       0.012451       7.299922   \nstd         1.983789       2.699902       0.127545       3.546042   \nmin         0.000000       0.000000       0.000000       0.000000   \n25%         0.000000       2.000000       0.000000       5.000000   \n50%         1.000000       4.000000       0.000000       7.000000   \n75%         3.000000       6.000000       0.000000      10.000000   \nmax         7.000000      11.000000       4.000000      13.000000   \n\n           ps_car_11     ps_calc_04     ps_calc_05     ps_calc_06  \\\ncount  595212.000000  595212.000000  595212.000000  595212.000000   \nmean        2.346072       2.372081       1.885886       7.689445   \nstd         0.832548       1.117219       1.134927       1.334312   \nmin        -1.000000       0.000000       0.000000       0.000000   \n25%         2.000000       2.000000       1.000000       7.000000   \n50%         3.000000       2.000000       2.000000       8.000000   \n75%         3.000000       3.000000       3.000000       9.000000   \nmax         3.000000       5.000000       6.000000      10.000000   \n\n          ps_calc_07     ps_calc_08     ps_calc_09     ps_calc_10  \\\ncount  595212.000000  595212.000000  595212.000000  595212.000000   \nmean        3.005823       9.225904       2.339034       8.433590   \nstd         1.414564       1.459672       1.246949       2.904597   \nmin         0.000000       2.000000       0.000000       0.000000   \n25%         2.000000       8.000000       1.000000       6.000000   \n50%         3.000000       9.000000       2.000000       8.000000   \n75%         4.000000      10.000000       3.000000      10.000000   \nmax         9.000000      12.000000       7.000000      25.000000   \n\n          ps_calc_11     ps_calc_12     ps_calc_13     ps_calc_14  \ncount  595212.000000  595212.000000  595212.000000  595212.000000  \nmean        5.441382       1.441918       2.872288       7.539026  \nstd         2.332871       1.202963       1.694887       2.746652  \nmin         0.000000       0.000000       0.000000       0.000000  \n25%         4.000000       1.000000       2.000000       6.000000  \n50%         5.000000       1.000000       3.000000       7.000000  \n75%         7.000000       2.000000       4.000000       9.000000  \nmax        19.000000      10.000000      13.000000      23.000000  ",
            "text/html": "<div>\n<style scoped>\n    .dataframe tbody tr th:only-of-type {\n        vertical-align: middle;\n    }\n\n    .dataframe tbody tr th {\n        vertical-align: top;\n    }\n\n    .dataframe thead th {\n        text-align: right;\n    }\n</style>\n<table border=\"1\" class=\"dataframe\">\n  <thead>\n    <tr style=\"text-align: right;\">\n      <th></th>\n      <th>ps_ind_01</th>\n      <th>ps_ind_03</th>\n      <th>ps_ind_14</th>\n      <th>ps_ind_15</th>\n      <th>ps_car_11</th>\n      <th>ps_calc_04</th>\n      <th>ps_calc_05</th>\n      <th>ps_calc_06</th>\n      <th>ps_calc_07</th>\n      <th>ps_calc_08</th>\n      <th>ps_calc_09</th>\n      <th>ps_calc_10</th>\n      <th>ps_calc_11</th>\n      <th>ps_calc_12</th>\n      <th>ps_calc_13</th>\n      <th>ps_calc_14</th>\n    </tr>\n  </thead>\n  <tbody>\n    <tr>\n      <th>count</th>\n      <td>595212.000000</td>\n      <td>595212.000000</td>\n      <td>595212.000000</td>\n      <td>595212.000000</td>\n      <td>595212.000000</td>\n      <td>595212.000000</td>\n      <td>595212.000000</td>\n      <td>595212.000000</td>\n      <td>595212.000000</td>\n      <td>595212.000000</td>\n      <td>595212.000000</td>\n      <td>595212.000000</td>\n      <td>595212.000000</td>\n      <td>595212.000000</td>\n      <td>595212.000000</td>\n      <td>595212.000000</td>\n    </tr>\n    <tr>\n      <th>mean</th>\n      <td>1.900378</td>\n      <td>4.423318</td>\n      <td>0.012451</td>\n      <td>7.299922</td>\n      <td>2.346072</td>\n      <td>2.372081</td>\n      <td>1.885886</td>\n      <td>7.689445</td>\n      <td>3.005823</td>\n      <td>9.225904</td>\n      <td>2.339034</td>\n      <td>8.433590</td>\n      <td>5.441382</td>\n      <td>1.441918</td>\n      <td>2.872288</td>\n      <td>7.539026</td>\n    </tr>\n    <tr>\n      <th>std</th>\n      <td>1.983789</td>\n      <td>2.699902</td>\n      <td>0.127545</td>\n      <td>3.546042</td>\n      <td>0.832548</td>\n      <td>1.117219</td>\n      <td>1.134927</td>\n      <td>1.334312</td>\n      <td>1.414564</td>\n      <td>1.459672</td>\n      <td>1.246949</td>\n      <td>2.904597</td>\n      <td>2.332871</td>\n      <td>1.202963</td>\n      <td>1.694887</td>\n      <td>2.746652</td>\n    </tr>\n    <tr>\n      <th>min</th>\n      <td>0.000000</td>\n      <td>0.000000</td>\n      <td>0.000000</td>\n      <td>0.000000</td>\n      <td>-1.000000</td>\n      <td>0.000000</td>\n      <td>0.000000</td>\n      <td>0.000000</td>\n      <td>0.000000</td>\n      <td>2.000000</td>\n      <td>0.000000</td>\n      <td>0.000000</td>\n      <td>0.000000</td>\n      <td>0.000000</td>\n      <td>0.000000</td>\n      <td>0.000000</td>\n    </tr>\n    <tr>\n      <th>25%</th>\n      <td>0.000000</td>\n      <td>2.000000</td>\n      <td>0.000000</td>\n      <td>5.000000</td>\n      <td>2.000000</td>\n      <td>2.000000</td>\n      <td>1.000000</td>\n      <td>7.000000</td>\n      <td>2.000000</td>\n      <td>8.000000</td>\n      <td>1.000000</td>\n      <td>6.000000</td>\n      <td>4.000000</td>\n      <td>1.000000</td>\n      <td>2.000000</td>\n      <td>6.000000</td>\n    </tr>\n    <tr>\n      <th>50%</th>\n      <td>1.000000</td>\n      <td>4.000000</td>\n      <td>0.000000</td>\n      <td>7.000000</td>\n      <td>3.000000</td>\n      <td>2.000000</td>\n      <td>2.000000</td>\n      <td>8.000000</td>\n      <td>3.000000</td>\n      <td>9.000000</td>\n      <td>2.000000</td>\n      <td>8.000000</td>\n      <td>5.000000</td>\n      <td>1.000000</td>\n      <td>3.000000</td>\n      <td>7.000000</td>\n    </tr>\n    <tr>\n      <th>75%</th>\n      <td>3.000000</td>\n      <td>6.000000</td>\n      <td>0.000000</td>\n      <td>10.000000</td>\n      <td>3.000000</td>\n      <td>3.000000</td>\n      <td>3.000000</td>\n      <td>9.000000</td>\n      <td>4.000000</td>\n      <td>10.000000</td>\n      <td>3.000000</td>\n      <td>10.000000</td>\n      <td>7.000000</td>\n      <td>2.000000</td>\n      <td>4.000000</td>\n      <td>9.000000</td>\n    </tr>\n    <tr>\n      <th>max</th>\n      <td>7.000000</td>\n      <td>11.000000</td>\n      <td>4.000000</td>\n      <td>13.000000</td>\n      <td>3.000000</td>\n      <td>5.000000</td>\n      <td>6.000000</td>\n      <td>10.000000</td>\n      <td>9.000000</td>\n      <td>12.000000</td>\n      <td>7.000000</td>\n      <td>25.000000</td>\n      <td>19.000000</td>\n      <td>10.000000</td>\n      <td>13.000000</td>\n      <td>23.000000</td>\n    </tr>\n  </tbody>\n</table>\n</div>"
          },
          "metadata": {}
        }
      ]
    },
    {
      "metadata": {
        "_cell_guid": "d6abca79-29c6-4bf4-b59e-e2653913d1a0",
        "_uuid": "a4195747a21d76a65efd3027d434271f526f9ef6"
      },
      "cell_type": "markdown",
      "source": "From the statistics we can see that there are quite different scales present and that there is only one feature that has missing values. "
    },
    {
      "metadata": {
        "_cell_guid": "efc5c29f-afe8-4c9f-9d8d-a706b36cafd9",
        "collapsed": true,
        "_uuid": "956bd4660d340505a3b7b8afde609c347d6b7d46",
        "trusted": false
      },
      "cell_type": "code",
      "source": "#look at the class distribustion\ntargetcounts = train.groupby('target').size()\nprint(targetcounts)",
      "execution_count": null,
      "outputs": []
    },
    {
      "metadata": {
        "_cell_guid": "6a026542-aca3-43a2-9c3e-a4dda386eb19",
        "_uuid": "c6588ca69f28f3111bc7a267dccc486943c3f003"
      },
      "cell_type": "markdown",
      "source": "We already assumed that there are more customers who are not likely to claim than there are who will. From the above result we can see that there are aprox. 26 times more customers who did not file a claim. 3.78% of the customers filed a claim which shows us that the dataset is quite unbalanced."
    },
    {
      "metadata": {
        "_cell_guid": "9cc992a3-434d-4ed7-8d24-21c55d161740",
        "_uuid": "cb3630b98f0b472ae96a76eef770fc405328cf4f"
      },
      "cell_type": "markdown",
      "source": "<h2>1. Data Analysis</h2>"
    },
    {
      "metadata": {
        "_cell_guid": "9bf7d4d1-8314-4500-803c-e8d5f0181a24",
        "_uuid": "bededdf912593a174477304410701ea9592aa4a6"
      },
      "cell_type": "markdown",
      "source": "<h3>1.1 Continous input variable</h3>"
    },
    {
      "metadata": {
        "_cell_guid": "1efa9aae-5931-4831-be7b-69944f440cb1",
        "_uuid": "1264df3e19e12b922597e6d1fb65a4930a6a4654",
        "trusted": true
      },
      "cell_type": "code",
      "source": "train[i].hist(figsize=(15,15), grid=False)",
      "execution_count": 20,
      "outputs": [
        {
          "output_type": "execute_result",
          "execution_count": 20,
          "data": {
            "text/plain": "array([[<matplotlib.axes._subplots.AxesSubplot object at 0x7f129cbfa940>,\n        <matplotlib.axes._subplots.AxesSubplot object at 0x7f129ce38390>,\n        <matplotlib.axes._subplots.AxesSubplot object at 0x7f129ce1f6d8>],\n       [<matplotlib.axes._subplots.AxesSubplot object at 0x7f129a143c18>,\n        <matplotlib.axes._subplots.AxesSubplot object at 0x7f129cde0470>,\n        <matplotlib.axes._subplots.AxesSubplot object at 0x7f129cde04a8>],\n       [<matplotlib.axes._subplots.AxesSubplot object at 0x7f12a03be8d0>,\n        <matplotlib.axes._subplots.AxesSubplot object at 0x7f12a03778d0>,\n        <matplotlib.axes._subplots.AxesSubplot object at 0x7f12a032ee10>],\n       [<matplotlib.axes._subplots.AxesSubplot object at 0x7f12a033ae80>,\n        <matplotlib.axes._subplots.AxesSubplot object at 0x7f12a031d400>,\n        <matplotlib.axes._subplots.AxesSubplot object at 0x7f12a02d8400>]],\n      dtype=object)"
          },
          "metadata": {}
        },
        {
          "output_type": "display_data",
          "data": {
            "text/plain": "<matplotlib.figure.Figure at 0x7f129cbf0d68>",
            "image/png": "[encoded data removed]"
          },
          "metadata": {}
        }
      ]
    },
    {
      "metadata": {
        "_cell_guid": "2da264a5-5750-4962-ab19-70eaf4fa85eb",
        "_uuid": "643234beeaa03360736985a42b7c89792511dfeb"
      },
      "cell_type": "markdown",
      "source": "For feature *ps_car_11* the first quartile takes on values between 1 and 2 and the median is simultaniously the median. Due to the low amount in the value 0, it is considered to be an outlier. The boxplot of *ps_car_12* shows that there are a lot of irregularities within the data, as a lot of ouliers are \"identified\". Looking at the histogram, however, we can see that most of the data fall below 0.5. The same can be said for *ps_car_13* as we can see in the boxplot that there are too much  points to be considered as outliers. Since these values are continous, the decision boundaries in the boxplot are not quite representative. However, what we can see from the histogram above is that this feature is right skewed and has most of its values in the left side of the graph. However, we can assume that the left side of the data distribution is not considered to be an outlier. *Ps_car_14* similarly has most of the instances in the limit of 0.25 to 0.5. It seems to considere values above 0.5 as outliers and below 0.25 as well. Looking at the histogram we could assume that due to the closeness of the values to the peaked one, they are not considered to be outliers. Lastly, *ps_car_15* has more than 50% of the data instances above the value 3. Here again, the values 1.5, 1 and 0 are considered to be outliers which we do not see as plausible enough. "
    },
    {
      "metadata": {
        "_cell_guid": "68fbdcc0-e2bb-4abf-a266-7bb9c29e5869",
        "_uuid": "2154b58d0a57d29fbf9c87b6f1e897fbd8a11bd0",
        "trusted": true
      },
      "cell_type": "code",
      "source": "",
      "execution_count": 17,
      "outputs": []
    },
    {
      "metadata": {
        "_cell_guid": "56214063-bb38-44bf-9039-9ed92fc9e6fd",
        "_uuid": "032884619d4f4c9ed9e9732c0e46872d28068271",
        "trusted": true
      },
      "cell_type": "code",
      "source": "train[i].boxplot(figsize=(20,20),grid=False)",
      "execution_count": 18,
      "outputs": [
        {
          "output_type": "execute_result",
          "execution_count": 18,
          "data": {
            "text/plain": "<matplotlib.axes._subplots.AxesSubplot at 0x7f129ce321d0>"
          },
          "metadata": {}
        },
        {
          "output_type": "display_data",
          "data": {
            "text/plain": "<matplotlib.figure.Figure at 0x7f129ccd87b8>",
            "image/png": "[encoded data removed]"
          },
          "metadata": {}
        }
      ]
    },
    {
      "metadata": {
        "_cell_guid": "282f62ff-a6ed-4099-b162-69c48ca1a86c",
        "_uuid": "262486213b8a0356149b917b55368f7a6c540f5a"
      },
      "cell_type": "markdown",
      "source": "The boxplots for the regional features show us that feature *ps_reg_02* and *ps_reg_03*  have a comparable high amount of outliers, although the histogram of the features would not indicate them as outliers.. Furthermore, the missing values for *ps_reg_03* need to be analyzed as the amount of them seems to be quite high if we look at the histogram. "
    },
    {
      "metadata": {
        "_cell_guid": "acf469bc-6047-4b9c-a5a7-e244c3efbd6e",
        "_kg_hide-input": true,
        "_uuid": "8b74745cf3c7ea77d6668fc824fe176f90162fa4"
      },
      "cell_type": "markdown",
      "source": "<h3>1.2 Ordinal input variable </h3>"
    },
    {
      "metadata": {
        "_cell_guid": "5369f4e4-bdb8-4270-87ed-2b3a9d3aceca",
        "collapsed": true,
        "_uuid": "abd54b0a64562a228c2cec2271ae09ee7d47c7a5",
        "trusted": false
      },
      "cell_type": "code",
      "source": "train[o].hist(figsize=(15,15), grid=False)",
      "execution_count": null,
      "outputs": []
    },
    {
      "metadata": {
        "_cell_guid": "7a066b09-d75a-4161-abdf-8a47b179257c",
        "_uuid": "f91b95e93e015f6c72da407982fd455a6530bf36"
      },
      "cell_type": "markdown",
      "source": "We see that *ps_ind_01* and *ps_ind_15 *have a higher range of values than *ps_ind_14*. Furthermore, we can see that some values seem to occur obviously more often as the others. Almost all customers have the value 0  of the feature *ps_ind_14* , which seems to be interesting. "
    },
    {
      "metadata": {
        "_cell_guid": "267b79d5-16b4-41de-8ec3-9effe3b7d33d",
        "_uuid": "fd5e17a6a3cae6ec51e5189ca0f577020dde03c7",
        "trusted": true
      },
      "cell_type": "code",
      "source": "\ntrain[o].boxplot(figsize=(30,20), grid=False)",
      "execution_count": 23,
      "outputs": [
        {
          "output_type": "execute_result",
          "execution_count": 23,
          "data": {
            "text/plain": "<matplotlib.axes._subplots.AxesSubplot at 0x7f12a029a588>"
          },
          "metadata": {}
        },
        {
          "output_type": "display_data",
          "data": {
            "text/plain": "<matplotlib.figure.Figure at 0x7f129ff9f390>",
            "image/png": "[encoded data removed]"
          },
          "metadata": {}
        }
      ]
    },
    {
      "metadata": {
        "_cell_guid": "ac8da8ad-2e02-4b09-980b-7b7b9fbf4df0",
        "_uuid": "86b4026c39c3c6b53b1e2e557e89da9b5dc35572"
      },
      "cell_type": "markdown",
      "source": "Boxplots are a good way to look at the min and max ranges of features and to  identify outliers. The first feature *ps_ind_01* for example has 75% of the data between 0 and 3; the other values ranging from 3 to 7 are in the last quartile. Feature *ps_ind_14* has its median at 0 and some few instances that are greater than 0. Comparing the boxplot to the histogram, we see similarities as the most frequent value was 0 with a few values of 1,2,3 and 4. The feature *ps_ind_15* on the other hand shows us the minimal value 0, the maximal value 13 and the median 7. Both features *ps_ind_01* and *ps_ind_15* seem not to have any outliers."
    },
    {
      "metadata": {
        "_cell_guid": "3533349f-75ee-46bd-ba06-7ba929255e29",
        "_uuid": "7a2cc705edabfdb71b0ba76260b4454e415ccceb"
      },
      "cell_type": "markdown",
      "source": "<h3> Binary input variables </h3>"
    },
    {
      "metadata": {
        "_cell_guid": "6e737747-b8fe-439d-a71b-25ab14b15363",
        "collapsed": true,
        "_uuid": "37e8ee22248fed7e6bcc223299bb5d84728499b8",
        "trusted": false
      },
      "cell_type": "code",
      "source": "b = meta[(meta.level == 'binary')].index\ntrain[b].hist(figsize=(15,15), grid=False)",
      "execution_count": null,
      "outputs": []
    },
    {
      "metadata": {
        "_cell_guid": "576fd2bc-7d5d-46a3-8f5e-53a65b042dd4",
        "_uuid": "c3b622d3cddcb145dafb8e13e3ce764c720e04fc"
      },
      "cell_type": "markdown",
      "source": "The values of the boolean features of customers do not include any missing information, as can be seen in the histograms.  The features *ps_ind_10_bin* and *ps_ind_11_bin* should be further examined whether they have other values as well, as the majority of values falls into 0. It would be interesting to know, wheter the two features have any correlation to the target variable and if not whether we can drop them. "
    },
    {
      "metadata": {
        "_cell_guid": "effd574b-23f7-4938-a15e-015ba2671f4c",
        "_uuid": "8440714dc706f99faf6fcadd0e1060ea748222e8"
      },
      "cell_type": "markdown",
      "source": "<h3> Categorical input variables </h3>"
    },
    {
      "metadata": {
        "_cell_guid": "5866539f-76ab-499f-be5b-6dd57085d425",
        "_uuid": "8826777433cd8e4ec3f069ee5a33c9730d2b2ff6",
        "trusted": true
      },
      "cell_type": "code",
      "source": "c = meta[(meta.level == 'nominal')].index\ntrain[c].hist(figsize=(20,20),grid=False)",
      "execution_count": 34,
      "outputs": [
        {
          "output_type": "execute_result",
          "execution_count": 34,
          "data": {
            "text/plain": "array([[<matplotlib.axes._subplots.AxesSubplot object at 0x7f129da0c748>,\n        <matplotlib.axes._subplots.AxesSubplot object at 0x7f129d9c8240>,\n        <matplotlib.axes._subplots.AxesSubplot object at 0x7f129d982208>,\n        <matplotlib.axes._subplots.AxesSubplot object at 0x7f129d93a278>],\n       [<matplotlib.axes._subplots.AxesSubplot object at 0x7f129d8f4278>,\n        <matplotlib.axes._subplots.AxesSubplot object at 0x7f129d8f42b0>,\n        <matplotlib.axes._subplots.AxesSubplot object at 0x7f129d8d6d68>,\n        <matplotlib.axes._subplots.AxesSubplot object at 0x7f129d89c278>],\n       [<matplotlib.axes._subplots.AxesSubplot object at 0x7f129d8537b8>,\n        <matplotlib.axes._subplots.AxesSubplot object at 0x7f129d8b0128>,\n        <matplotlib.axes._subplots.AxesSubplot object at 0x7f129d7b8d68>,\n        <matplotlib.axes._subplots.AxesSubplot object at 0x7f129d76fdd8>],\n       [<matplotlib.axes._subplots.AxesSubplot object at 0x7f129d78e668>,\n        <matplotlib.axes._subplots.AxesSubplot object at 0x7f129d766d68>,\n        <matplotlib.axes._subplots.AxesSubplot object at 0x7f129d718898>,\n        <matplotlib.axes._subplots.AxesSubplot object at 0x7f129d6d0908>]],\n      dtype=object)"
          },
          "metadata": {}
        },
        {
          "output_type": "display_data",
          "data": {
            "text/plain": "<matplotlib.figure.Figure at 0x7f129da42c88>",
            "image/png": "[encoded data removed]"
          },
          "metadata": {}
        }
      ]
    },
    {
      "metadata": {
        "_cell_guid": "4a3676fb-6158-4a00-a1b2-25cf24858155",
        "_uuid": "6cdf642371dcd372f681fbc420b9cd648c23abe0"
      },
      "cell_type": "markdown",
      "source": "The categorical features of individuals all have some minor missing values, as can be seen at the '-1' column. There are values that are as well occuring more often than the others.  \nThe missing values of the categorical features can be replaced by the mode. \n\nLooking at the categorical features of the group car we can see that some of the featues include missing values such as *ps_car02_cat* and can be dealt with by e.g. using the mode to replace the missing values. However, if we look further at the plotted features we can see that two features, *ps_car_03_cat* and *ps_car_05_cat* have more missing values than observed instances. Therefore we suggest to drop the features from our analysis.\n\nThe data of the categorical features of the cars seem to be more spread than the other features seen so far. The first difference that can be seen is the difference in scales, as *ps_car_11_cat* ranges from 0 to above 100. It would be interesting to identify what car feature can have more than 100 possible categorical values. Nevertheless, to better read the graph we will consider another graph without *ps_car_11_cat*.\n\nThe features which almost purely have one categorical value should be further examined whether they have any influence on the target variable or not. We assume that if they do not influence the outcome, they can be dropped to increase the performance of the learning model. "
    },
    {
      "metadata": {
        "_cell_guid": "fbfc83ce-d08a-48e7-a60e-2ace66d497e6",
        "_uuid": "e7909d7738abd799e2aa7b63fefb9b98e2d3ac77",
        "trusted": true
      },
      "cell_type": "code",
      "source": "#for the boxplot drop the ps_car_11_cat because it has a much higher scale\nexc = train[c.difference(['ps_car_11_cat'])]\nexc.boxplot(figsize=(30,20),grid=False)",
      "execution_count": 33,
      "outputs": [
        {
          "output_type": "execute_result",
          "execution_count": 33,
          "data": {
            "text/plain": "<matplotlib.axes._subplots.AxesSubplot at 0x7f129de0ddd8>"
          },
          "metadata": {}
        },
        {
          "output_type": "display_data",
          "data": {
            "text/plain": "<matplotlib.figure.Figure at 0x7f129db8ac88>",
            "image/png": "[encoded data removed]"
          },
          "metadata": {}
        }
      ]
    },
    {
      "metadata": {
        "_cell_guid": "d2931da5-0761-4c6c-b9bc-ee42f52f2270",
        "_uuid": "bebcb618754c95295df4020b268d7d0da9283706"
      },
      "cell_type": "markdown",
      "source": "Now that we have removed *ps_car_11_cat* from the other categorical values of the group car, we can look closer into each of them. To begin with, *ps_car_01_cat* has missing values, however, the amount of them is quite low considering the histogram above. Similarly, *ps_car_02_cat* has its median at 1 and consideres the missing values as outliers. Looking at the histogram above, we can say that there are not many missing values and therefore we can deal with them in a next step. The feature *ps_car_03_cat* seems to be not quite useful, as it consideres the missing values as the median. Looking at the histogram, we can see that the majority of values is missing. Dealing with that feature will be difficult as a representative deflection can most probably not be made. *Ps_car_04_cat* has the median at 0 and the boxplot considers all other values as outliers. This might be true, considering the histogram. However, what can be assumed is that the value \"8\" is considered to be extreme, as it falls out of the range of the other possible values. *Ps_car_05_cat* considers the missing values as well in the first quartile which means that there are quite a lot of missing values. Looking at the histogram we can confirm that, as missing values are the majority. Here again we should think about whether keeping that feature actually makes sense or not.  *Ps_car_06_cat* shows us that the frist 25% of the data falls already between 0 and 1. The last quartile ranges from 11 to 17. *Ps_car_07_cat* seems to have allmost all values at 1 as the median is 1 and considers 0 and -1 as outliers. However, looking at the histogram we can see that the majority of values is 1 but still some of them are 0. Likewise, *ps_car_08_cat* has the median at 1 and consideres 0 as an outlier. However, this is probably not true but we can assume that the feature takes on one category only in minor situations. The boxplot of *ps_car_09_cat* consideres the missing values as the minimal amount of the first quartile. *Ps_car_10_cat* has a median of 1, considering that there are no plotted boxes for the other quartiles we can assume that 1 is the most occured value. Here again, the smaller amount of other categorical values (0 and 2) are considered to be outliers as they do not occur often. "
    },
    {
      "metadata": {
        "_cell_guid": "2275ef5f-c80c-476f-8edb-c7a36dcef24b",
        "_uuid": "7f76ab6fcee2f1f10571c9b408d846f9421e4959"
      },
      "cell_type": "markdown",
      "source": "The feature *ps_ind_02_cat* has a median of 1 which is also the minimal value. -1 is correctly classified as outlier, as it is not a categorie but idicates a missing value. Since the amount of missing values is not too high, we can think of dealing with it in the data preparation step later on. The feature *ps_ind_05_cat* has median at 0 and it does not consider the values greater than 0 as represenative ranges. Looking at the histogram, it handles the values as outliers since the amount of them is much smaller than the zeros. Lastly, feature *ps_ind_04_cat* takes the missing values as minimal values of the first quartile. However, comparing the boxplot to the histogram it cannot be clearly traceable as the amount of -1s is significantly low compared to the 0s and 1s. "
    },
    {
      "metadata": {
        "_cell_guid": "7d3d1457-d7a2-48bc-8186-03cfe7cc0a41",
        "collapsed": true,
        "_uuid": "d4a925efd545e95edc72c210c5ce3f093477bd1a",
        "trusted": false
      },
      "cell_type": "code",
      "source": "train.boxplot(figsize=(5,5),grid=False, column=['ps_car_11_cat'])",
      "execution_count": null,
      "outputs": []
    },
    {
      "metadata": {
        "_cell_guid": "e174d107-73cb-40dc-9b15-14426947d270",
        "collapsed": true,
        "_uuid": "68d7bd548af60db9de7221b18c95501354d5bc4a",
        "trusted": false
      },
      "cell_type": "code",
      "source": "train.hist(figsize=(5,5),grid=False, column=['ps_car_11_cat'], bins=100)",
      "execution_count": null,
      "outputs": []
    },
    {
      "metadata": {
        "_cell_guid": "bd883fa2-b0b7-4f4e-8e82-edd769dd7dcd",
        "_uuid": "e270a31fed38e2ef7eadaa9746404b4a5c2e7ae5"
      },
      "cell_type": "markdown",
      "source": "<h2>Comparison to claim rates</h2>"
    },
    {
      "metadata": {
        "_cell_guid": "37e3cc30-14ca-4c63-ad57-3acc64d7dfe0",
        "_uuid": "a7c6ac94cbea31d73e7016bc9d05ce0eb0fe7fa0",
        "trusted": true
      },
      "cell_type": "code",
      "source": "#CATEGORICAL FEATURES\nfor f in exc:\n    g = sns.factorplot(x=f, y=\"target\",data=train,\n                   kind=\"bar\", size=4, ci=None)\n   ",
      "execution_count": 35,
      "outputs": [
        {
          "output_type": "error",
          "ename": "ValueError",
          "evalue": "Could not interpret input 'target'",
          "traceback": [
            "\u001b[0;31m---------------------------------------------------------------------------\u001b[0m",
            "\u001b[0;31mValueError\u001b[0m                                Traceback (most recent call last)",
            "\u001b[0;32m<ipython-input-35-1a34dbb8c454>\u001b[0m in \u001b[0;36m<module>\u001b[0;34m()\u001b[0m\n\u001b[1;32m      2\u001b[0m \u001b[0;32mfor\u001b[0m \u001b[0mf\u001b[0m \u001b[0;32min\u001b[0m \u001b[0mexc\u001b[0m\u001b[0;34m:\u001b[0m\u001b[0;34m\u001b[0m\u001b[0m\n\u001b[1;32m      3\u001b[0m     g = sns.factorplot(x=f, y=\"target\",data=train,\n\u001b[0;32m----> 4\u001b[0;31m                    kind=\"bar\", size=4, ci=None)\n\u001b[0m\u001b[1;32m      5\u001b[0m \u001b[0;34m\u001b[0m\u001b[0m\n",
            "\u001b[0;32m/opt/conda/lib/python3.6/site-packages/seaborn/categorical.py\u001b[0m in \u001b[0;36mfactorplot\u001b[0;34m(x, y, hue, data, row, col, col_wrap, estimator, ci, n_boot, units, order, hue_order, row_order, col_order, kind, size, aspect, orient, color, palette, legend, legend_out, sharex, sharey, margin_titles, facet_kws, **kwargs)\u001b[0m\n\u001b[1;32m   3489\u001b[0m     \u001b[0;31m# facets to ensure representation of all data in the final plot\u001b[0m\u001b[0;34m\u001b[0m\u001b[0;34m\u001b[0m\u001b[0m\n\u001b[1;32m   3490\u001b[0m     \u001b[0mp\u001b[0m \u001b[0;34m=\u001b[0m \u001b[0m_CategoricalPlotter\u001b[0m\u001b[0;34m(\u001b[0m\u001b[0;34m)\u001b[0m\u001b[0;34m\u001b[0m\u001b[0m\n\u001b[0;32m-> 3491\u001b[0;31m     \u001b[0mp\u001b[0m\u001b[0;34m.\u001b[0m\u001b[0mestablish_variables\u001b[0m\u001b[0;34m(\u001b[0m\u001b[0mx_\u001b[0m\u001b[0;34m,\u001b[0m \u001b[0my_\u001b[0m\u001b[0;34m,\u001b[0m \u001b[0mhue\u001b[0m\u001b[0;34m,\u001b[0m \u001b[0mdata\u001b[0m\u001b[0;34m,\u001b[0m \u001b[0morient\u001b[0m\u001b[0;34m,\u001b[0m \u001b[0morder\u001b[0m\u001b[0;34m,\u001b[0m \u001b[0mhue_order\u001b[0m\u001b[0;34m)\u001b[0m\u001b[0;34m\u001b[0m\u001b[0m\n\u001b[0m\u001b[1;32m   3492\u001b[0m     \u001b[0morder\u001b[0m \u001b[0;34m=\u001b[0m \u001b[0mp\u001b[0m\u001b[0;34m.\u001b[0m\u001b[0mgroup_names\u001b[0m\u001b[0;34m\u001b[0m\u001b[0m\n\u001b[1;32m   3493\u001b[0m     \u001b[0mhue_order\u001b[0m \u001b[0;34m=\u001b[0m \u001b[0mp\u001b[0m\u001b[0;34m.\u001b[0m\u001b[0mhue_names\u001b[0m\u001b[0;34m\u001b[0m\u001b[0m\n",
            "\u001b[0;32m/opt/conda/lib/python3.6/site-packages/seaborn/categorical.py\u001b[0m in \u001b[0;36mestablish_variables\u001b[0;34m(self, x, y, hue, data, orient, order, hue_order, units)\u001b[0m\n\u001b[1;32m    149\u001b[0m                 \u001b[0;32mif\u001b[0m \u001b[0misinstance\u001b[0m\u001b[0;34m(\u001b[0m\u001b[0minput\u001b[0m\u001b[0;34m,\u001b[0m \u001b[0mstring_types\u001b[0m\u001b[0;34m)\u001b[0m\u001b[0;34m:\u001b[0m\u001b[0;34m\u001b[0m\u001b[0m\n\u001b[1;32m    150\u001b[0m                     \u001b[0merr\u001b[0m \u001b[0;34m=\u001b[0m \u001b[0;34m\"Could not interpret input '{}'\"\u001b[0m\u001b[0;34m.\u001b[0m\u001b[0mformat\u001b[0m\u001b[0;34m(\u001b[0m\u001b[0minput\u001b[0m\u001b[0;34m)\u001b[0m\u001b[0;34m\u001b[0m\u001b[0m\n\u001b[0;32m--> 151\u001b[0;31m                     \u001b[0;32mraise\u001b[0m \u001b[0mValueError\u001b[0m\u001b[0;34m(\u001b[0m\u001b[0merr\u001b[0m\u001b[0;34m)\u001b[0m\u001b[0;34m\u001b[0m\u001b[0m\n\u001b[0m\u001b[1;32m    152\u001b[0m \u001b[0;34m\u001b[0m\u001b[0m\n\u001b[1;32m    153\u001b[0m             \u001b[0;31m# Figure out the plotting orientation\u001b[0m\u001b[0;34m\u001b[0m\u001b[0;34m\u001b[0m\u001b[0m\n",
            "\u001b[0;31mValueError\u001b[0m: Could not interpret input 'target'"
          ]
        }
      ]
    },
    {
      "metadata": {
        "_cell_guid": "ef95e031-3e52-4bac-84b9-61a0994a5044",
        "collapsed": true,
        "_uuid": "4d8a49a9adaf02b9efb0f89aa85b6a4527cf630b",
        "trusted": false
      },
      "cell_type": "code",
      "source": "#code used from Bert Carremans https://www.kaggle.com/bertcarremans/data-preparation-exploration\ncat_perc = train[['ps_car_11_cat', 'target']].groupby(['ps_car_11_cat'],as_index=False).mean()\ncat_perc.sort_values(by='target', ascending=False, inplace=True)\ng=sns.factorplot(x=\"ps_car_11_cat\",y=\"target\", data=cat_perc, order=cat_perc['ps_car_11_cat'],size=15, kind=\"bar\")",
      "execution_count": null,
      "outputs": []
    },
    {
      "metadata": {
        "_cell_guid": "fa2a2a21-8a56-4a9a-b487-e810c4344f04",
        "_uuid": "bdc39e53bcb50aba85bf7ec44341c3dacbe12c0f"
      },
      "cell_type": "markdown",
      "source": "By sorting the columns, we can see that there are three values that seem to be most influencal. We will use these three values to create dummy variables and group the remaining once into a \"ohers\" value. "
    },
    {
      "metadata": {
        "_cell_guid": "4031628a-de30-4953-b9e0-8859689d6889",
        "collapsed": true,
        "_uuid": "fde989524aae4f4ac578acf5ba58223ca6bf22a3",
        "trusted": false
      },
      "cell_type": "code",
      "source": "#ordinal features\nfor f in o:\n    g=sns.factorplot(x=f, y=\"target\", data=train, kind=\"bar\", size=4, ci=None)",
      "execution_count": null,
      "outputs": []
    },
    {
      "metadata": {
        "_cell_guid": "6df2aeee-9a55-4e06-baba-391175f0d2ca",
        "collapsed": true,
        "_uuid": "65e3bff87b7733dbefb3386eed6f090561439564",
        "trusted": false
      },
      "cell_type": "code",
      "source": "#continous features -> takes very long to load\nfor f in i:\n    g=sns.factorplot(x=f,y=\"target\", data=train, kind=\"bar\", size=4, ci=None)",
      "execution_count": null,
      "outputs": []
    },
    {
      "metadata": {
        "_cell_guid": "f130284f-a943-40ec-9dba-800e7fa7f0a8",
        "_uuid": "b60e31ad6a83edc7618ea4027427b3c0ba69aa2d"
      },
      "cell_type": "markdown",
      "source": "Some of the features have a lot of possible values, which is why the plot seems to be quite unreadable. From those plots *ps_car_12* and *ps_car_13* look interesting as there are some values which reach almost 100% of the target varialbe. "
    },
    {
      "metadata": {
        "_cell_guid": "e1a26bd6-e23e-40d8-aafe-4bd226ab0079",
        "_uuid": "7893f142438766ed78f4295f2f8d61b8de68223f"
      },
      "cell_type": "markdown",
      "source": "*Detailed analysis of the continuous features with a lot of possible values:*"
    },
    {
      "metadata": {
        "_cell_guid": "4836c97e-3dca-48f8-8120-49deb5821289",
        "collapsed": true,
        "_uuid": "ecf5f2bd63231121bde3a73db2b8552841ac545a",
        "trusted": false
      },
      "cell_type": "code",
      "source": "#ps_reg_03\nm=train.query('target==1 and ps_reg_03>ps_reg_03.mean()')['ps_reg_03'].count()\nall=train.query('target==1 and ps_reg_03 >=-1')['id'].count()\npercent_reg_03=m*100/all\npercent_reg_03",
      "execution_count": null,
      "outputs": []
    },
    {
      "metadata": {
        "_cell_guid": "3271b1bd-7f3a-49b3-addc-10e1c40490dd",
        "collapsed": true,
        "_uuid": "8b944553716bb3539261375628172c0d8a29659a",
        "trusted": false
      },
      "cell_type": "code",
      "source": "#ps_reg_03 above mean below 3rd quartile\nm=train.query('target==1 and ps_reg_03>ps_reg_03.mean() and ps_reg_03<ps_reg_03.quantile(0.75)')['ps_reg_03'].count()\nall=train.query('target==1 and ps_reg_03 >=-1')['id'].count()\npercent_reg_03=m*100/all\npercent_reg_03",
      "execution_count": null,
      "outputs": []
    },
    {
      "metadata": {
        "_cell_guid": "212bba04-c0eb-46c8-8af7-ebd6cc225d2f",
        "_uuid": "f3a4959936040c933d7433f0fb44f6a8dda789fe"
      },
      "cell_type": "markdown",
      "source": "78% of the customers who had a value that was greater than the mean of *ps_reg_03* filed a claim. However, 48% of the customers who were above the mean but below the upper quartile filed a claim."
    },
    {
      "metadata": {
        "_cell_guid": "e234ab38-ac69-467a-8643-d12ae05ed4e5",
        "collapsed": true,
        "_uuid": "f148c90c9ab5b43fbb03613e9a3759029319aaf2",
        "trusted": false
      },
      "cell_type": "code",
      "source": "#ps_car_12 \nm=train.query('target==1 and ps_car_12>ps_car_12.mean()')['ps_car_12'].count()\nall=train.query('target==1 and ps_car_12 >=-1')['id'].count()\npercent_car_12=m*100/all\npercent_car_12",
      "execution_count": null,
      "outputs": []
    },
    {
      "metadata": {
        "_cell_guid": "083100be-1d24-4659-bdfa-2906c802898a",
        "collapsed": true,
        "_uuid": "217e29a1e477c2f186e44b6579ce3d0a02841093",
        "trusted": false
      },
      "cell_type": "code",
      "source": "#ps_car_12 \nm=train.query('target==1 and ps_car_12>ps_car_12.mean() and ps_car_12<ps_car_12.quantile(0.75)')['ps_car_12'].count()\nall=train.query('target==1 and ps_car_12 >=-1')['id'].count()\npercent_car_12=m*100/all\npercent_car_12",
      "execution_count": null,
      "outputs": []
    },
    {
      "metadata": {
        "_cell_guid": "584d934a-dd87-4004-8d25-9fe99abaa0f3",
        "_uuid": "954c607001f3a4566e2928df99a650a97cd5c1c6"
      },
      "cell_type": "markdown",
      "source": "55% of the customers that had a value of feature *ps_car_12*  above the mean filed a claim. However, only aprox. 5% of the customers where the value fell into the upper quartile filed a claim. "
    },
    {
      "metadata": {
        "_cell_guid": "2675130c-fc61-4035-ad85-dfbc61594ae8",
        "collapsed": true,
        "_uuid": "6da842443789719277c084f3ce47cd31de683877",
        "trusted": false
      },
      "cell_type": "code",
      "source": "#ps_car_13\nm=train.query('target==1 and ps_car_13>ps_car_13.mean()')['ps_car_13'].count()\nall=train.query('target==1 and ps_car_13 >=-1')['id'].count()\npercent_car_13=m*100/all\npercent_car_13",
      "execution_count": null,
      "outputs": []
    },
    {
      "metadata": {
        "_cell_guid": "32705cc5-6a59-4466-a187-7beeb135b8cb",
        "collapsed": true,
        "_uuid": "0d780725b5f295bdd9c50330ec8fb89a6a909eb6",
        "trusted": false
      },
      "cell_type": "code",
      "source": "#ps_car_13\nm=train.query('target==1 and ps_car_13>ps_car_13.mean() and ps_car_13<ps_car_13.quantile(0.75)')['ps_car_13'].count()\nall=train.query('target==1 and ps_car_13 >=-1')['id'].count()\npercent_car_13=m*100/all\npercent_car_13",
      "execution_count": null,
      "outputs": []
    },
    {
      "metadata": {
        "_cell_guid": "3b2468e0-6665-4554-abcb-b64c574b579b",
        "_uuid": "0f9e37d3472916bdcb59d43084fd0ffc534222ad"
      },
      "cell_type": "markdown",
      "source": "50% of the customers that had a value of feature *ps_car_13*  above the mean filed a claim and 16% filed a claim if the values went above the upper quartile. "
    },
    {
      "metadata": {
        "_cell_guid": "b4bddc52-0080-48a7-92ae-9809826644d5",
        "collapsed": true,
        "_uuid": "743c53d18a5abcb4561f03ca62ea09a7e438f3e5",
        "trusted": false
      },
      "cell_type": "code",
      "source": "#ps_car_14\nm=train.query('target==1 and ps_car_14>ps_car_14.mean()')['ps_car_14'].count()\nall=train.query('target==1 and ps_car_14 >=-1')['id'].count()\npercent_car_14=m*100/all\npercent_car_14",
      "execution_count": null,
      "outputs": []
    },
    {
      "metadata": {
        "_cell_guid": "1b9f3b57-7c68-4cb0-9a73-16f283f23c19",
        "collapsed": true,
        "_uuid": "a0757ee58dfb5d2340c68cadc0f896796edf1f2e",
        "trusted": false
      },
      "cell_type": "code",
      "source": "#ps_car_14 3rd quartile\nm=train.query('target==1 and ps_car_14>ps_car_14.mean() and ps_car_14<ps_car_14.quantile(0.75)')['ps_car_14'].count()\nall=train.query('target==1 and ps_car_14 >=-1')['id'].count()\npercent_car_14=m*100/all\npercent_car_14",
      "execution_count": null,
      "outputs": []
    },
    {
      "metadata": {
        "_cell_guid": "62837281-9487-49d0-b63e-b4a2bdd524f5",
        "_uuid": "46f7a34c9056a5294cc6385a166a226ce6dad83d"
      },
      "cell_type": "markdown",
      "source": "91% of the customers, who had a value above the mean filed a claim. That's an incredible high percentage. if the customers had a value above the mean but below the upper quartile there were still 63% of them which filed a claim. "
    },
    {
      "metadata": {
        "_cell_guid": "8fc2cef5-606f-4b1a-93cd-f0a2320b49ed",
        "collapsed": true,
        "_uuid": "5f009abd10e347926a8ba94ff058f37778b965a4",
        "trusted": false
      },
      "cell_type": "code",
      "source": "#ps_car_14 3rd quartile\nm=train.query('target==1 and ps_car_14>ps_car_14.mean() and ps_car_14<ps_car_14.quantile(0.75)')['ps_car_14'].count()\nall=train.query('target==1 and ps_car_14 >=-1')['id'].count()\npercent_car_14=m*100/all\npercent_car_14",
      "execution_count": null,
      "outputs": []
    },
    {
      "metadata": {
        "_cell_guid": "daee4bfe-28e0-49fa-921f-260e4732c4a8",
        "_uuid": "2ee3584e0df42581e5f14c920c0f50091b1d184a"
      },
      "cell_type": "markdown",
      "source": "If we look at the 3rd quantile, then aproximately 28% of the customers filed a claim. Customers that had values greater than the mean but smaller the third quartile are aprox 63%."
    },
    {
      "metadata": {
        "_cell_guid": "5a653b96-c818-4468-9d89-2b7c5ef89579",
        "collapsed": true,
        "_uuid": "8dc2a95d450c3e86d790835236ab2efd5469f769",
        "trusted": false
      },
      "cell_type": "code",
      "source": "#car13=[]\n#for f in train[\"ps_car_13\"]:\n #   if float(f) > 0.5:\n  #      car13.append(f)\n\n#for f in car13:\n #   g=sns.factorplot(x=\"ps_car_13\",y=\"target\",data=train, kind=\"bar\",ci=None,size=6)\n    ",
      "execution_count": null,
      "outputs": []
    },
    {
      "metadata": {
        "_cell_guid": "b9253362-a8c5-47c5-a276-97742acb0b8d",
        "collapsed": true,
        "_uuid": "6103b4fb974c143ebe8c6ae5041d16592680524e",
        "trusted": false
      },
      "cell_type": "code",
      "source": "#group all binary features together except of target variable for the analysis\nexct = train[b.difference(['target'])]",
      "execution_count": null,
      "outputs": []
    },
    {
      "metadata": {
        "_cell_guid": "59e71df6-c959-4df0-a713-8153744f0948",
        "scrolled": false,
        "collapsed": true,
        "_uuid": "4da446e9c6084a56e0f8a9921b4c538c58d88992",
        "trusted": false
      },
      "cell_type": "code",
      "source": "#BINARY FEATURES\nfor f in exct:\n    g=sns.factorplot(x=f, y=\"target\", data=train,\n                     kind=\"bar\",size=4, ci=None)",
      "execution_count": null,
      "outputs": []
    },
    {
      "metadata": {
        "_cell_guid": "790d2965-6af9-42b6-99b4-da7ae836e747",
        "_uuid": "ff271c244d384e6b1194a60578e57f93d1497b2e"
      },
      "cell_type": "markdown",
      "source": "In 55% of the cases a file was claimed if the feature ps_car_12 was above the mean."
    },
    {
      "metadata": {
        "_cell_guid": "6f40af2a-b73c-4130-b733-4a95bda920cc",
        "_uuid": "d735d0ad7a61779e1d14cc939a9dff380412d04d"
      },
      "cell_type": "markdown",
      "source": "<h2> Missing values </h2>\n"
    },
    {
      "metadata": {
        "_cell_guid": "84ee83e1-8c25-441b-ae14-341dc2897fac",
        "collapsed": true,
        "_uuid": "b12058ffef48fb1fd723068cd8da24ef72df83e5",
        "trusted": false
      },
      "cell_type": "code",
      "source": "#code form https://www.kaggle.com/bertcarremans/data-preparation-exploration \nfor f in train.columns:\n    mv = train[train[f]==-1][f].count()\n    if mv > 0:\n        mvp = mv/train.shape[0] * 100 #train.shape[0] refers to the rows, [1] would refer to the columns\n        mvp =round(mvp)\n    \n        print (' Variable ', f, ' has ', mvp , 'percent missing')    ",
      "execution_count": null,
      "outputs": []
    },
    {
      "metadata": {
        "_cell_guid": "46897f6d-ceb2-4e78-86a1-8424689640ee",
        "_uuid": "6c20206150d358070ef60f0faf0328271d111a87"
      },
      "cell_type": "markdown",
      "source": "As was said before, we can drop the two variables *ps_car_03_cat* and *ps_car_05_cat* as the missing values are quite high. The continuous features will be replaced by the mean and the ordinal ones by the mode. "
    },
    {
      "metadata": {
        "_cell_guid": "43f8e0a2-c3f3-470c-b500-804251b58ab0",
        "_uuid": "61c386933284ae9b8163d4bed308f1962491db73",
        "trusted": false,
        "collapsed": true
      },
      "cell_type": "code",
      "source": "#drop the two features\ntrain.drop(['ps_car_03_cat','ps_car_05_cat'], inplace=True, axis=1)\n#drop id, because it's not from interest\ntrain.drop(['id'], inplace=True, axis=1)\n\n#check whether the columns have been deleten\ntrain.shape",
      "execution_count": null,
      "outputs": []
    },
    {
      "metadata": {
        "_cell_guid": "c0ab8934-e454-4d30-ac62-b7e0bfd9ea7a",
        "collapsed": true,
        "_uuid": "c6294b9e9aacc700b3732c06bf6c4db4abad8748",
        "trusted": false
      },
      "cell_type": "code",
      "source": "#update missing values with mean\nimputermean = Imputer(missing_values=-1, strategy=\"mean\")\n\ntrain['ps_reg_03'] = imputermean.fit_transform(train[['ps_reg_03']]).ravel()\ntrain['ps_car_12'] = imputermean.fit_transform(train[['ps_car_12']]).ravel()\ntrain['ps_car_14'] = imputermean.fit_transform(train[['ps_car_14']]).ravel()\n\n#update missing values with mode\nimputermode = Imputer(missing_values=-1, strategy=\"most_frequent\")\n\ntrain['ps_car_11'] = imputermode.fit_transform(train[['ps_car_11']]).ravel()\n",
      "execution_count": null,
      "outputs": []
    },
    {
      "metadata": {
        "_cell_guid": "2023a6bf-1336-4a0b-8549-5dd34ae434d8",
        "_uuid": "3f9442fa147d7d7f1c1d04d51873763e05e0db12"
      },
      "cell_type": "markdown",
      "source": "Now we replaced allmissing values of the  continous variables with the mean and used the mode for the ordinal inputs. We could furhter analyze the missing values and look at the correlations and groupings to make a more accurate replacement instead of just using the mean or mode. However, for the beginning we will stick to this approach and we can tweak it later on to see how it improves accuracy."
    },
    {
      "metadata": {
        "_cell_guid": "153ca1cd-0196-4007-8eb5-d91cd1b6a800",
        "collapsed": true,
        "_uuid": "4f8fd41e508d95ce9c09ec9a7d1a6253a5c7621f",
        "trusted": false
      },
      "cell_type": "code",
      "source": "#check whether test data set has missing values at all\n\nfor f in test.columns:\n    mv = test[test[f]==-1][f].count()\n    if mv > 0:\n        mvp = mv/test.shape[0] * 100\n        print (' Variable ', f, ' has ', mvp , 'percent missing')    ",
      "execution_count": null,
      "outputs": []
    },
    {
      "metadata": {
        "_cell_guid": "6d2cf875-8a4b-4064-9688-1869528c612e",
        "_uuid": "f6555a1b5206f0f2df9de7a833a20424f808aa3e"
      },
      "cell_type": "markdown",
      "source": "If we want to use our model that we will fit on the training data, we need to also treat the missining values in the testing data. We will use the same imputer to the testdata. "
    },
    {
      "metadata": {
        "_cell_guid": "1f811bfe-3b24-4f62-a57e-dcb413ac511a",
        "collapsed": true,
        "_uuid": "9ca2c01e3fc53b37da7ba847d868842510544243",
        "trusted": false
      },
      "cell_type": "code",
      "source": "#drop the two features from the test dataset as well\ntest.drop(['ps_car_03_cat','ps_car_05_cat'], inplace=True, axis=1)\n#drop id, because it's not from interest\ntest.drop(['id'], inplace=True, axis=1)\n\n#check whether the columns have been deleten\ntest.shape",
      "execution_count": null,
      "outputs": []
    },
    {
      "metadata": {
        "_cell_guid": "0cc3126a-32ac-4f39-a0bf-74634a2c2894",
        "collapsed": true,
        "_uuid": "cef5433f8aa8c23b94ae9b52bb3106a577518747",
        "trusted": false
      },
      "cell_type": "code",
      "source": "\ntest['ps_reg_03'] = imputermean.fit_transform(test[['ps_reg_03']]).ravel()\ntest['ps_car_12'] = imputermean.fit_transform(test[['ps_car_12']]).ravel()\ntest['ps_car_14'] = imputermean.fit_transform(test[['ps_car_14']]).ravel()\ntest['ps_car_11'] = imputermode.fit_transform(test[['ps_car_11']]).ravel()",
      "execution_count": null,
      "outputs": []
    },
    {
      "metadata": {
        "_cell_guid": "7a6fb92c-cd02-42d7-b287-cd48a2d26b99",
        "_uuid": "8da60f442f35dd1d4dea076e716f13478c83a152"
      },
      "cell_type": "markdown",
      "source": " <h3>2. Correlation Analysis </h3> <h4> not used (only if I want to apply PCA)</h4>"
    },
    {
      "metadata": {
        "_cell_guid": "9a4a841d-8e73-415b-b4d6-733ebcf3e1d5",
        "collapsed": true,
        "_uuid": "3d55cbb34dda1a096367f03144e9c4516ef7d248",
        "trusted": false
      },
      "cell_type": "code",
      "source": "#look at the correlations between the variables\ncorr = train.corr()\ncormatrix = plt.subplots(figsize=(20, 15))\ncmap = sns.diverging_palette(220, 10, as_cmap=True)\nsns.heatmap(corr)",
      "execution_count": null,
      "outputs": []
    },
    {
      "metadata": {
        "_cell_guid": "0658c39c-e8f5-4528-83b3-95d17d44c0e0",
        "_uuid": "813de583b958cc26c40a826e69d1e81b64220901"
      },
      "cell_type": "markdown",
      "source": "The correlation matrix above shows us that there are some features which correlate to each other, either positively or negatively. We can also clearly see that the calculated features do not have any correlation with each other nor with other features. To enable a better readability we will exclude the calculated features from the graph. "
    },
    {
      "metadata": {
        "_cell_guid": "4cdc138e-4c48-4647-873e-24faaba0cb25",
        "_uuid": "5657c42627ccb8a4937bc32908d98c84819eaab1"
      },
      "cell_type": "markdown",
      "source": "**Note**: First I created a correlation matrix (between all features except the calculation features). however, it does not make sense to do that as correlation between categorical features and continuous cannot be compared. If only quantitative features than we can use .corr() which is pearson correlation. For categorical features we can use chi squared and for continuous vs. categorical we can use anova. "
    },
    {
      "metadata": {
        "_cell_guid": "21ae7b6d-d3c0-4dd2-8f8e-d6aaf01deee7",
        "collapsed": true,
        "_uuid": "c504aae2b9ed2d6991c51d3ce9020001b8874fd9",
        "trusted": false
      },
      "cell_type": "code",
      "source": "#create an array with all the features without the calculation features\nwithoutcalcfeatures = []\nfor f in train.columns:\n    if 'calc' not in f:\n        withoutcalcfeatures.append(f)\n# filter the features that do not include the calc featues\nwithoutcalc = train.drop(withoutcalcfeatures,axis=1) ",
      "execution_count": null,
      "outputs": []
    },
    {
      "metadata": {
        "_cell_guid": "51ee7a5f-c28a-45aa-b9f7-8f2def4b1a04",
        "collapsed": true,
        "_uuid": "fd673d1ff9a127e1feb1a10de2407b7fda6e8176",
        "trusted": false
      },
      "cell_type": "code",
      "source": "n = meta[(meta.level =='interval')].index \n\ng= sns.pairplot(train, vars=[n])",
      "execution_count": null,
      "outputs": []
    },
    {
      "metadata": {
        "_cell_guid": "29a93176-1a63-429a-899a-664a83d17b18",
        "collapsed": true,
        "_uuid": "e58fe03bd7d769fdb890ccaecf0abfc3cd9de17f",
        "trusted": false
      },
      "cell_type": "code",
      "source": "#Scatterplot for the numeric values individual\n\ng = sns.pairplot(train, vars=['ps_ind_01','ps_ind_14','ps_ind_15'])",
      "execution_count": null,
      "outputs": []
    },
    {
      "metadata": {
        "_cell_guid": "7d6fc6bf-5add-44b7-8573-3220d14e4555",
        "collapsed": true,
        "_uuid": "8976b37369149119828b581f18a8efb2e180fc10",
        "trusted": false
      },
      "cell_type": "code",
      "source": "#Scatterplot for the numeric values car\ng = sns.pairplot(train, vars=['ps_car_11','ps_car_12','ps_car_13', 'ps_car_14', 'ps_car_15'])",
      "execution_count": null,
      "outputs": []
    },
    {
      "metadata": {
        "_cell_guid": "a1978f77-24ea-4e42-b993-7a39bbe8ab96",
        "collapsed": true,
        "_uuid": "68c5fd269770e766ba38af89074d1c13f763e3bf",
        "trusted": false
      },
      "cell_type": "code",
      "source": "#Scatterplot for the numeric values region\ng = sns.pairplot(train, vars=['ps_reg_01','ps_reg_02','ps_reg_03'])",
      "execution_count": null,
      "outputs": []
    },
    {
      "metadata": {
        "_cell_guid": "0e906f82-ab24-4101-b639-f7f7cb315dea",
        "collapsed": true,
        "_uuid": "dbe42b5048acb8e6c97a8c45cc3b07326f6b0748",
        "trusted": false
      },
      "cell_type": "code",
      "source": "#Scatterplot for the numeric values calculation\ng = sns.pairplot(train, vars=['ps_calc_01','ps_calc_02','ps_calc_03','ps_calc_04','ps_calc_05','ps_calc_06','ps_calc_07','ps_calc_08','ps_calc_09','ps_calc_10','ps_calc_11','ps_calc_12','ps_calc_13','ps_calc_14'])",
      "execution_count": null,
      "outputs": []
    },
    {
      "metadata": {
        "_cell_guid": "14e3fa48-8c5f-4494-bf9f-b428f9118506",
        "collapsed": true,
        "_uuid": "27cfae16f52baa34ceae70f95eaa644f258468a0"
      },
      "cell_type": "markdown",
      "source": "todo: \n1) Look at the correlations between features - if some have a correlation maybe i can apply PCA to reduce the amount of feautes;  heat map from above and look at the closer ones more into detail. \n2) look at correlation to target variable \n3) use the features and look at the distribution if grouped to 0 or 1. to see whether there are any patterns. - features with low variance or 0 variance - drop them. "
    },
    {
      "metadata": {
        "_cell_guid": "4380fd8c-e583-49dc-a2ee-7c937ecb7420",
        "_uuid": "f632a3e5b29047c890c591913b07738875753be1"
      },
      "cell_type": "markdown",
      "source": "<h3> Scaling </h3> - **not used - not effecting the model much**"
    },
    {
      "metadata": {
        "_cell_guid": "a96577e2-77cf-452d-861c-082a7691cb17",
        "collapsed": true,
        "_uuid": "8aa18cf684063c173708680052e84b071bde1f24",
        "trusted": false
      },
      "cell_type": "code",
      "source": "# from sklearn import preprocessing\n# x = trainnewweka.values #returns a numpy array\n# min_max_scaler = preprocessing.MinMaxScaler()\n# x_scaled = min_max_scaler.fit_transform(x)\n# dfsc = pd.DataFrame(x_scaled, columns=trainnewweka.columns)",
      "execution_count": null,
      "outputs": []
    },
    {
      "metadata": {
        "_cell_guid": "495e2aee-6876-4a60-a502-fce9bfd2ccab",
        "_uuid": "c11e3d5e89fc7b034da2460c414e795a78b0e9e7"
      },
      "cell_type": "markdown",
      "source": "<h2> Feature Selection </h2> :\n<h3>Feature selection using Variance Threshold.</h3>"
    },
    {
      "metadata": {
        "_cell_guid": "2a2852b6-7b0e-4648-b3cd-ae58210006ed",
        "collapsed": true,
        "_uuid": "2b4dad12e402bd639a083800c736709364b45237",
        "trusted": false
      },
      "cell_type": "code",
      "source": "#select the threshold - 90% of the samples  need to be the same to be dropped\nsel = VarianceThreshold(threshold=0.1)\n#sel.fit(train)  # not needed\n#sel.fit_transform(train.drop(['target'], axis=1)) #target should not be considered to be analyzed on variance;   now that we dropped the target upfront we dont need it anymore\nsel.fit_transform(train)\n\n# we get an array of boolean features back which of the featues were selected.\n#code from https://www.kaggle.com/bertcarremans/data-preparation-exploration \nf = np.vectorize(lambda x : not x) # Function to toggle boolean array elements\n\nv = train.columns[f(sel.get_support())]\nprint('These {} variables have too low variance and will be dropped (Threshold 90%):'.format(len(v)))\nprint('{}'.format(list(v)))",
      "execution_count": null,
      "outputs": []
    },
    {
      "metadata": {
        "_cell_guid": "7b8af01d-1b14-446c-9ea6-2b9520338266",
        "_uuid": "f086e6e7188a61eebdde484e44c7bd19f5c880e2"
      },
      "cell_type": "markdown",
      "source": " **eliminate features with 0 or low variance because they usually have low predictive power.**\nhttps://stats.stackexchange.com/questions/145602/justification-for-feature-selection-by-removing-predictors-with-near-zero-varian "
    },
    {
      "metadata": {
        "_cell_guid": "2eb7be10-0a45-4b07-93b3-b211ad7f326c",
        "_uuid": "93f528c100a7bb9e1b4dc6e28bc8114c78a7fe55"
      },
      "cell_type": "markdown",
      "source": "**Feature importance using random forest**"
    },
    {
      "metadata": {
        "_cell_guid": "f5381d5c-66e7-4bc7-aae3-ebf69ae1d1cf",
        "collapsed": true,
        "_uuid": "3f0b69600cf6a7b20cf07b5ce81e81c13bc44b4a",
        "trusted": false
      },
      "cell_type": "code",
      "source": "#cross validation for train set - to analyze feature importance using RF\nx_train, x_test, y_train, y_test = cross_validation.train_test_split(\n     train, label, test_size=0.3)",
      "execution_count": null,
      "outputs": []
    },
    {
      "metadata": {
        "_cell_guid": "3fbe3f8c-8153-466f-8068-a6b5aed6e58e",
        "collapsed": true,
        "_uuid": "2b60007ae25f55b14c76e38b0ed5665bc7e4fe9d",
        "trusted": false
      },
      "cell_type": "code",
      "source": "#Look at feature importance through random forest\n\n#feature importance without dropping the ones with low variance and creating dummy variables\nrf = RandomForestClassifier(n_estimators=100, random_state=1, n_jobs=-1)\nrf.fit(x_train, y_train)\n\n\n# code from Igor Manzhos found at https://stackoverflow.com/questions/41900387/mapping-column-names-to-random-forest-feature-importances\nimportances = list(zip(train.columns, rf.feature_importances_))\nimportances.sort(reverse=True)\nprint (importances)",
      "execution_count": null,
      "outputs": []
    },
    {
      "metadata": {
        "_cell_guid": "50dce986-0613-4e78-b70f-b25ac906fb06",
        "collapsed": true,
        "_uuid": "677d75041807282059650bc1756e97119a894652",
        "trusted": false
      },
      "cell_type": "code",
      "source": "# plot thanks to https://www.fabienplisson.com/choosing-right-features/\nimportances=rf.feature_importances_\nimportances = pd.DataFrame({'feature':train.columns,'importance':np.round(rf.feature_importances_,3)})\nimportances = importances.sort_values('importance',ascending=False).set_index('feature')\nimportances.plot.bar(figsize=(25,5))",
      "execution_count": null,
      "outputs": []
    },
    {
      "metadata": {
        "_cell_guid": "ec13da10-e2c4-4c6d-a89c-e0c5863ee069",
        "collapsed": true,
        "_uuid": "61d04255c23100849134291bcfda50ae369954ed",
        "trusted": false
      },
      "cell_type": "code",
      "source": "from sklearn.feature_selection import SelectFromModel\n# minimum threshold is the median of the feature importances\nsfm = SelectFromModel(rf, threshold=0.021)\nsfm.fit(x_train, y_train)\nn_features = sfm.transform(x_train).shape[1]\nnewvars = list(cols[sfm.get_support()]) #getfeatures names and asign it to newvars, so that we can access it later",
      "execution_count": null,
      "outputs": []
    },
    {
      "metadata": {
        "_cell_guid": "3c2e11b5-342d-41bd-808f-6052162240d3",
        "collapsed": true,
        "_uuid": "f9853e4f9f714b37d96dfecc9226b13cb3cd1cf4",
        "trusted": false
      },
      "cell_type": "code",
      "source": "trainnewrandom= train[newvars]",
      "execution_count": null,
      "outputs": []
    },
    {
      "metadata": {
        "_cell_guid": "435a5c3f-fd18-4c66-b6c6-750a3f4daa69",
        "_uuid": "a27e583942db694da467aa3cf186f2a65c0e52a4"
      },
      "cell_type": "markdown",
      "source": "Run 1: Interesting is that the variance threshold said the ps_reg_03 should be dropped due to too high variance. However, looking at the feature importance of the random forest ps_reg_03 seems to be the strongest predictor. Even if we look at our detailed analysis from this feature, we idetified that 78% of the customers claimed a file if that feature was above the mean. As a next step it should be evaluated how much percent of the feature actually fall above the mean. If the amount is high, I'd suggest to create a dummy variable which checks whether that feature is above the mean or not. and if so use it as predictor. so we can discard the feature ps_reg_03.  "
    },
    {
      "metadata": {
        "_cell_guid": "deff40b6-85c4-4755-8ee5-6917795ff270",
        "_uuid": "b41026a822bfeb461a160417d882f84125c95d87"
      },
      "cell_type": "markdown",
      "source": "Run 2: After creating dummy variables for all features, we ended up having 194 features. Looking at the importance of each feature using the random forest we identified that ps_car_11_cat has some important values such as ps_car_11_cat_99  until ps_car_!1_cat_90 and then also ps_car_11_cat9. Although the feature has 104 categories they seem to be important and hence should not be dropped. After undersampling our model we can try a model with only 50 features and see how it performs. "
    },
    {
      "metadata": {
        "_cell_guid": "14f7ba96-b6fa-4a88-96a6-64f2cb915056",
        "_uuid": "b2ed1f4ea333e5c10af7d83773042ace84203408"
      },
      "cell_type": "markdown",
      "source": "<h3> Features selection using WEKA datamining tool </h3> (forward selection)"
    },
    {
      "metadata": {
        "_cell_guid": "04e898cc-f205-40e7-b321-38b8d0b11c53",
        "collapsed": true,
        "_uuid": "f8d0f2aacb2bf0b316423e9c9964bf9a8f70470d",
        "trusted": false
      },
      "cell_type": "code",
      "source": "#select the 9 features that were identified to lead to a good subset from weka\n#features: ps_ind_07_bin, ps_ind_12_bin, ps_ind_17_bin, ps_reg_02, ps_car_07_cat, ps_car_12, ps_car_13,ps_calc_01\nsubff =[]\nfor f in train.columns:\n    if f != 'ps_ind_07_bin' and f !='ps_ind_12_bin' and f != 'ps_ind_17_bin' and f != 'ps_reg_02'  and f !='ps_car_07_cat' and f !='ps_car_12' and f != 'ps_car_13' and f != 'ps_calc_01':\n        subff.append(f)",
      "execution_count": null,
      "outputs": []
    },
    {
      "metadata": {
        "_cell_guid": "98b979fb-d7d7-4a29-ba08-48f93557bc5b",
        "_uuid": "b7e90bd10ef689325e33b5b1a084abdd44bd8a16"
      },
      "cell_type": "markdown",
      "source": "(backward selection)"
    },
    {
      "metadata": {
        "_cell_guid": "78100d67-16e2-4545-9f91-87ec12626fd0",
        "collapsed": true,
        "_uuid": "f66c6eae8ee1039b2adf625f70f62b6c670e7f33",
        "trusted": false
      },
      "cell_type": "code",
      "source": "#backward selec from weka\nsubfback =[]\nfor f in train.columns:\n    if f != 'ps_ind_05_cat' and f !='ps_ind_06_bin' and f != 'ps_ind_07_bin' and f != 'ps_ind_12_bin' and f !='ps_ind_16_bin' and f !='ps_ind_17_bin' and f != 'ps_reg_02' and f != 'ps_reg_03' and f != 'ps_car_02_cat' and f != 'ps_car_03_cat' and f != 'ps_car_07_cat' and f != 'ps_car_12' and f != 'ps_car_13' and f != 'ps_car_15':\n        subfback.append(f)",
      "execution_count": null,
      "outputs": []
    },
    {
      "metadata": {
        "_cell_guid": "def65786-7e9f-4915-9989-79ac1b8994cf",
        "collapsed": true,
        "_uuid": "7b39a3dfa304db17d7b4991be6f4d10abb6be28c",
        "trusted": false
      },
      "cell_type": "code",
      "source": "featuresKag =[]\nfor f in train.columns:\n     if f != 'ps_ind_01' and f !='ps_ind_03' and f != 'ps_ind_05_cat' and f != 'ps_ind_07_bin' and f !='ps_ind_15' and f !='ps_ind_16_bin' and f != 'ps_reg_01' and f != 'ps_reg_03' and f != 'ps_reg_02' and f != 'ps_car_01_cat' and f != 'ps_car_03_cat' and f != 'ps_car_07_cat' and f != 'ps_car_12' and f != 'ps_car_13'  and f != 'ps_car_14' and f != 'ps_car_15':\n        featuresKag.append(f)",
      "execution_count": null,
      "outputs": []
    },
    {
      "metadata": {
        "_cell_guid": "30d07082-d6c0-44e6-ae12-7693648644a4",
        "_uuid": "4477c3a1c1d97f7b07816b86384ba96bb981536e"
      },
      "cell_type": "markdown",
      "source": "<h3> Drop the selected Features <h3>\nVariance Threshold"
    },
    {
      "metadata": {
        "_cell_guid": "43c9f8fa-56e5-4769-b23d-e804cd5abe6b",
        "collapsed": true,
        "_uuid": "72f1258021fe9a0c687bd2f9ee898b3bbead5a1e",
        "trusted": false
      },
      "cell_type": "code",
      "source": "#create copy of train and drop the 14 features that have a too low variance\n#if we create dummy variables for all the categorical features we can drop 164 features because they have a too low variance\ntrainnew = train.drop(v, axis=1)\n\n",
      "execution_count": null,
      "outputs": []
    },
    {
      "metadata": {
        "_cell_guid": "4b0b371c-f3e9-418e-8435-3599cb68978d",
        "collapsed": true,
        "_uuid": "0aa3ea638d4e11df7d840699bcb34ca1a2eddfb4"
      },
      "cell_type": "markdown",
      "source": "<h3>Forward Selection WEKA </h3>"
    },
    {
      "metadata": {
        "_cell_guid": "757797ad-5a28-473c-9905-e6d9b123556d",
        "collapsed": true,
        "_uuid": "4fa8367cbe73a7accd08da026bab56d8468c215b",
        "trusted": false
      },
      "cell_type": "code",
      "source": "trainnewweka= train.drop(subff, axis=1)",
      "execution_count": null,
      "outputs": []
    },
    {
      "metadata": {
        "_cell_guid": "a911803b-2335-496d-a7ca-f576d0da21fe",
        "collapsed": true,
        "_uuid": "d2a99fc517e816d48e072c0f3f2a93a3aaba9f85"
      },
      "cell_type": "markdown",
      "source": "<h3> Backwardselection WEKA </h3>                      "
    },
    {
      "metadata": {
        "_cell_guid": "119c4a43-3980-4cb9-abd7-d2b9371e3729",
        "collapsed": true,
        "_uuid": "fcb5189e09da4ddf13fdb10e62d2f1eb822d02a3",
        "trusted": false
      },
      "cell_type": "code",
      "source": "trainwekaback = train.drop(subfback, axis=1)",
      "execution_count": null,
      "outputs": []
    },
    {
      "metadata": {
        "_cell_guid": "4e703bc8-fa3d-4ce1-99c9-4a064f0f9848",
        "collapsed": true,
        "_uuid": "a5e97e3ee99b59a4f2d97d07c4cf351607cdb587",
        "trusted": false
      },
      "cell_type": "code",
      "source": "#features from https://www.kaggle.com/ogrellier/noise-analysis-of-porto-seguro-s-features\ntrainnew = train.drop(featuresKag,axis=1)",
      "execution_count": null,
      "outputs": []
    },
    {
      "metadata": {
        "_cell_guid": "50a91fa5-604b-40a2-ab4d-2d2990b1e783",
        "_uuid": "4689684df57e9dc0d759bfc89e89f31150bba64a"
      },
      "cell_type": "markdown",
      "source": "<h2> Create Dummy Variables </h2>\n\n1. On variance threshold selected features"
    },
    {
      "metadata": {
        "_cell_guid": "58dc20a1-4466-4d16-8646-26ef1225544f",
        "collapsed": true,
        "_uuid": "18e94bdef7f10fcb55084695318b4ec6c45a20b7",
        "trusted": false
      },
      "cell_type": "code",
      "source": "#create array with only the categorical features\ndumv = []\nfor f in trainnew.columns:\n    if 'cat' in f:\n        dumv.append(f)\n\n\ntrainnew = pd.get_dummies(trainnew, columns=dumv, drop_first=True)",
      "execution_count": null,
      "outputs": []
    },
    {
      "metadata": {
        "_cell_guid": "b927bfc4-c755-4aa9-8fdf-f6d6cb363bad",
        "_uuid": "f40b5d609b52a39f97afe27a0bed8d9c19c774fd"
      },
      "cell_type": "markdown",
      "source": " \n 2 . On featues selected through WEKA forward selection:"
    },
    {
      "metadata": {
        "_cell_guid": "a4c05901-ce79-45d6-af40-bfa12513e20f",
        "collapsed": true,
        "_uuid": "a4961934258b4d8e6251105e43e85e505161ff1f",
        "trusted": false
      },
      "cell_type": "code",
      "source": "#create array with only the categorical features for trainnewweka \ndumvarweka = []\nfor f in trainnewweka.columns:\n    if 'cat' in f:\n        dumvarweka.append(f)\n\n\ntrainnewweka = pd.get_dummies(trainnewweka, columns=dumvarweka, drop_first=True)",
      "execution_count": null,
      "outputs": []
    },
    {
      "metadata": {
        "_cell_guid": "09bef3d1-15a1-42b6-84e5-d15985b14ab6",
        "_uuid": "e2f2b96f913401b82e49ccc701bbeb24c6ab695b"
      },
      "cell_type": "markdown",
      "source": "3 . on features selected through WEKA backward selection:"
    },
    {
      "metadata": {
        "_cell_guid": "e000094d-ceb5-4af8-a176-c36c1a848719",
        "collapsed": true,
        "_uuid": "a47a951f0e3c68e4a6a2f336997030657eba69c0",
        "trusted": false
      },
      "cell_type": "code",
      "source": "#create array with only the categorical features for trainnewweka \ndumvarwekaback = []\nfor f in trainwekaback.columns:\n    if 'cat' in f:\n        dumvarwekaback.append(f)\n\n\ntrainwekaback = pd.get_dummies(trainwekaback, columns=dumvarwekaback, drop_first=True)",
      "execution_count": null,
      "outputs": []
    },
    {
      "metadata": {
        "_cell_guid": "2a3344d8-4cb3-4360-9e79-a33191ce31fe",
        "collapsed": true,
        "_uuid": "5b52d505c3c86674d8466a73120a253fc2cd0c4d",
        "trusted": false
      },
      "cell_type": "code",
      "source": "dumvarfeatimport = []\nfor f  in trainnewrandom:\n    if 'cat' in f:\n        dumvarfeatimport.append(f)\n\ntrainnewrandom = pd.get_dummies(trainnewrandom, columns=dumvarfeatimport, drop_first=True)",
      "execution_count": null,
      "outputs": []
    },
    {
      "metadata": {
        "_cell_guid": "0b2d0657-b52e-4975-adf3-d4ee3de028bf",
        "_uuid": "94d8513b3a8f52d0decfd48dcb9bc71d3bc70a2b"
      },
      "cell_type": "markdown",
      "source": "<h1> Training the models </h1>\n<h3> Iterations 1-5 </h3>"
    },
    {
      "metadata": {
        "_cell_guid": "3b08cabd-8405-4f67-a9e5-deb5b6d96319",
        "_uuid": "abe9d1ab32976f583fe9758c62d91c58856f8ab0"
      },
      "cell_type": "markdown",
      "source": "**KNN **"
    },
    {
      "metadata": {
        "_cell_guid": "614092a4-f64e-41a1-896d-9579dd44d473",
        "collapsed": true,
        "_uuid": "b04608351540300f7d92c0d5e8864008049941b2",
        "trusted": false
      },
      "cell_type": "code",
      "source": "#knn = KNeighborsClassifier(n_neighbors=bestVal, n_jobs=-1).fit(x_train, y_train)\nknn = KNeighborsClassifier(n_neighbors=1, n_jobs=-1).fit(x_train, y_train)\nknnscore = knn.score(x_test,y_test)\nresults['KNN'] = (1-knnscore)\nprint ('Prediction accuracy:', knnscore)",
      "execution_count": null,
      "outputs": []
    },
    {
      "metadata": {
        "_cell_guid": "ff05379a-f07e-495b-bc9e-0b887e506c2a",
        "_uuid": "e8e073815a9b58541cab4b4d60af905064e42f1b"
      },
      "cell_type": "markdown",
      "source": "<h2> Later iteartions - change in featue selection! </h2>\n"
    },
    {
      "metadata": {
        "_cell_guid": "c2533219-9673-42ce-9256-b1ae12762d01",
        "_uuid": "2803ed972138760e801e9ac6638e9ea1c6044153"
      },
      "cell_type": "markdown",
      "source": "**Select only X most important features **\nTutorial - https://chrisalbon.com/machine_learning/trees_and_forests/feature_selection_using_random_forest/"
    },
    {
      "metadata": {
        "_cell_guid": "e9429ea9-fb4d-416f-901d-388981e68856",
        "collapsed": true,
        "_uuid": "9f80f0ff4de81131be5703fdd3d227fbca77cc18",
        "trusted": false
      },
      "cell_type": "code",
      "source": "# new RF classifierr\nclf = RandomForestClassifier(n_estimators=200, random_state=0, n_jobs=-1)\n\n# Train the classifier\nclf.fit(x_train, y_train)\n\n#setting a seed  to create repeateble settings. othervise feature importance will always be different based on which features the model selects.\n\n# Print the name and gini importance of each feature\nfor feature in zip(reversed(cols), clf.feature_importances_):\n    print(feature)",
      "execution_count": null,
      "outputs": []
    },
    {
      "metadata": {
        "_cell_guid": "ca278c3f-e471-4199-bcdb-525708080bc3",
        "_uuid": "8ccd5f9382162deebfb88c39b315ddeacb7af4d3"
      },
      "cell_type": "markdown",
      "source": "**Select most important features**"
    },
    {
      "metadata": {
        "_cell_guid": "8929bf88-d0a1-4c85-a089-b5661e3e97e4",
        "collapsed": true,
        "_uuid": "9f2c3a24c700e369923d96fa353292fb2b8ed614",
        "trusted": false
      },
      "cell_type": "code",
      "source": "# Create a selector object that will use the random forest classifier to identify\n# features that have an importance of more than 0.007 .(ps_car_06_cat_1)\nsfm = SelectFromModel(clf, threshold=0.01)\n\n# Train the selector\nsfm.fit(x_train, y_train)",
      "execution_count": null,
      "outputs": []
    },
    {
      "metadata": {
        "_cell_guid": "e7c61206-c789-41a2-91d5-2bf9df1f53bc",
        "_uuid": "803c293e2268478591d6876eec8c29ac79dd3844"
      },
      "cell_type": "markdown",
      "source": "**Print names of most important featues**"
    },
    {
      "metadata": {
        "_cell_guid": "b8ad97d1-70f2-4d6b-bb91-06d5d48a5019",
        "collapsed": true,
        "_uuid": "54e9aabce643dfde62d058d9f0cd7470423caeb4",
        "trusted": false
      },
      "cell_type": "code",
      "source": "# print names of the most important features with threshold 0.0007\nfor feature_list_index in sfm.get_support(indices=True):\n    print(cols[feature_list_index])",
      "execution_count": null,
      "outputs": []
    },
    {
      "metadata": {
        "_cell_guid": "e1933805-2302-4b03-b54a-85bc0794388a",
        "_uuid": "8e801c1360d90ea192d4f8f201648e91f620610b"
      },
      "cell_type": "markdown",
      "source": "**Create subset of features to train new model**"
    },
    {
      "metadata": {
        "_cell_guid": "d5ab7902-73bc-4445-8c9b-e7ceb06d0b1e",
        "collapsed": true,
        "_uuid": "caa6a90dda34186ff197c7b522bc09376828a561",
        "trusted": false
      },
      "cell_type": "code",
      "source": "# Transform the data to create a new dataset containing only the most important features\n# Note: We have to apply the transform to both the training X and test X data.\nX_imp_train = sfm.transform(x_train)\nX_imp_test = sfm.transform(x_test)",
      "execution_count": null,
      "outputs": []
    },
    {
      "metadata": {
        "_cell_guid": "5ebaa120-e08c-4f62-83d7-b9f02180267a",
        "collapsed": true,
        "_uuid": "fc8546f1cadbefb605553d1e5b9f79d5c3fcf183",
        "trusted": false
      },
      "cell_type": "code",
      "source": "# Create a new random forest classifier for the most important features\nclf_important = RandomForestClassifier(n_estimators=500, random_state=0, n_jobs=-1)\n\n# Train the new classifier on the new dataset containing the most important features\nclf_important.fit(X_imp_train, y_train)",
      "execution_count": null,
      "outputs": []
    },
    {
      "metadata": {
        "_cell_guid": "139f4283-3b18-4456-8af3-e7c0b5b7471c",
        "collapsed": true,
        "_uuid": "00f26fb120e1867c2fa0b8d28ffc5703935dc5c0",
        "trusted": false
      },
      "cell_type": "code",
      "source": "# Apply The Full Featured Classifier To The Test Data\ny_imp_pred = clf_important.predict(X_imp_test)\n\n# View accuracy of RF with selected features\naccuracy_score(y_test, y_imp_pred)",
      "execution_count": null,
      "outputs": []
    },
    {
      "metadata": {
        "_cell_guid": "4ac5dc7b-54d9-4db5-b92c-d9a9154f15d0",
        "collapsed": true,
        "_uuid": "7f165dc6e0470a52e6197c9fab9962401c498b41",
        "trusted": false
      },
      "cell_type": "code",
      "source": "confusion_matrix(y_test,y_imp_pred)",
      "execution_count": null,
      "outputs": []
    },
    {
      "metadata": {
        "_cell_guid": "bf8521ea-8381-494d-8c9f-2640d7caf17a",
        "collapsed": true,
        "_uuid": "919d2a68580ba96d4cb89d10b6234dc72d69825b"
      },
      "cell_type": "markdown",
      "source": "<h1> Oversampling </h1>\n\n#tutorial on oversampling found on http://contrib.scikit-learn.org/imbalanced-learn/stable/over_sampling.html"
    },
    {
      "metadata": {
        "_cell_guid": "46cfbdfb-6216-4a12-a4e2-4094809929dd",
        "collapsed": true,
        "_uuid": "a12a93ca1dac95d736ecc9d5708b13585e51ac73",
        "trusted": false
      },
      "cell_type": "code",
      "source": "#cross validation trainnew\nx_train, x_test, y_train, y_test = cross_validation.train_test_split(\n     trainnew, label, test_size=0.3)",
      "execution_count": null,
      "outputs": []
    },
    {
      "metadata": {
        "_cell_guid": "f9eaa5a0-11f0-4628-9f8a-f486a31aa764",
        "collapsed": true,
        "_uuid": "f97e2f13cd3bc68c0d5ac0bfe0f16a0e67fb18f3",
        "trusted": false
      },
      "cell_type": "code",
      "source": "#cross validation for train set - to analyze feature importance using RF\nx_train, x_test, y_train, y_test = cross_validation.train_test_split(\n     trainnewweka, label, test_size=0.3)",
      "execution_count": null,
      "outputs": []
    },
    {
      "metadata": {
        "_cell_guid": "25ebbe89-a1be-475e-8630-48abb8cd8711",
        "collapsed": true,
        "_uuid": "d2ba0f91ecb8b2598d0cdb72f8aa290d8bef9a9d",
        "trusted": false
      },
      "cell_type": "code",
      "source": "#cross validation for backward feature space\nx_train, x_test, y_train, y_test = cross_validation.train_test_split(\n     trainwekaback, label, test_size=0.3)",
      "execution_count": null,
      "outputs": []
    },
    {
      "metadata": {
        "_cell_guid": "6213cb9f-68d4-4788-b3ff-e40430f539c4",
        "collapsed": true,
        "_uuid": "6a621baeda0bfe28bf30c5ff89bc80d95fe7a5ba",
        "trusted": false
      },
      "cell_type": "code",
      "source": "#on scaled data\nx_train, x_test, y_train, y_test = cross_validation.train_test_split(\n     dfsc, label, test_size=0.3)",
      "execution_count": null,
      "outputs": []
    },
    {
      "metadata": {
        "_cell_guid": "0050bfd0-a3da-42bc-bcaf-669c86bb369b",
        "collapsed": true,
        "_uuid": "ec3365175f312340dbc82bb80980ec029b0c60c1",
        "trusted": false
      },
      "cell_type": "code",
      "source": "# on trainingdata with only highest ranked features:\nx_train, x_test, y_train, y_test = cross_validation.train_test_split(\n     trainnewrandom, label, test_size=0.3)",
      "execution_count": null,
      "outputs": []
    },
    {
      "metadata": {
        "_cell_guid": "96349873-346a-4e8e-90ae-34271f5cc025",
        "_uuid": "0d9ca4b63b4677d8d38e5d27629df389851e7d3b"
      },
      "cell_type": "markdown",
      "source": "<h2> Random Forest on oversampled data </h2>"
    },
    {
      "metadata": {
        "_cell_guid": "899db61f-99b0-409f-9939-566f739ceddd",
        "collapsed": true,
        "_uuid": "d3463b93495366c4eb91a306751f29cf0fb20ca2",
        "trusted": false
      },
      "cell_type": "code",
      "source": "#create new train dataset and response dataset to have equal observations\nX_resampled, y_resampled = SMOTE().fit_sample(x_train, y_train)\nprint(sorted(Counter(y_resampled).items()))",
      "execution_count": null,
      "outputs": []
    },
    {
      "metadata": {
        "_cell_guid": "41941bb3-dd3d-4ce6-97e1-2327a91d21e6",
        "collapsed": true,
        "_uuid": "4faf6b9cc29d888f49c6ff0a8a56f9c777da67ae",
        "trusted": false
      },
      "cell_type": "code",
      "source": "#perform random forest on oversampled dataset\nclf_smote = RandomForestClassifier(n_estimators=8, random_state=0, n_jobs=-1, oob_score=True, max_depth=3, max_leaf_nodes= 10, min_samples_leaf=3, min_samples_split=10, min_weight_fraction_leaf= 0.1)\nclf_smote.fit(X_resampled, y_resampled)",
      "execution_count": null,
      "outputs": []
    },
    {
      "metadata": {
        "_cell_guid": "7427525e-99d6-4df2-bcd6-bd3f6b6ae8a7",
        "collapsed": true,
        "_uuid": "b0a6d31c078b50755b9ab60193c29257a3b25c66",
        "trusted": false
      },
      "cell_type": "code",
      "source": "#perform prediction  - https://www.kaggle.com/chtaret/fraud-detection-with-smote-and-randomforest\n#turotial \npredictionsrf=clf_smote.predict(x_test)",
      "execution_count": null,
      "outputs": []
    },
    {
      "metadata": {
        "_cell_guid": "ef14742f-f87b-47e1-ba9d-d5fcac264aa1",
        "collapsed": true,
        "_uuid": "55d90aaf8a79f545f2afb983c46cf7c7a4c28c73",
        "trusted": false
      },
      "cell_type": "code",
      "source": "probabilitiesrf=clf_smote.predict_proba(x_test)",
      "execution_count": null,
      "outputs": []
    },
    {
      "metadata": {
        "_cell_guid": "2d8d5508-30c1-4b36-8f83-bc4d9d44ce5e",
        "collapsed": true,
        "_uuid": "f3cb100374d6f1ed5a363935a2777aa0e0c79432",
        "trusted": false
      },
      "cell_type": "code",
      "source": "confusion_matrix(y_test,predictionsrf)",
      "execution_count": null,
      "outputs": []
    },
    {
      "metadata": {
        "_cell_guid": "733be25c-95e8-4072-924f-2809411916d7",
        "collapsed": true,
        "_uuid": "a961ad7ab75e88244230b55f1c71db96a742862f",
        "trusted": false
      },
      "cell_type": "code",
      "source": "#fpr_rf, tpr_rf, thresholds_rf = roc_curve(y_test,Y_pred_proba_rf[:,1],pos_label = 1) -> for prediction probabilities roc curve\nfalse_positive_rate, true_positive_rate, thresholds = roc_curve(y_test, probabilitiesrf[:,1])\nroc_auc1 = auc(false_positive_rate, true_positive_rate)\nprint (roc_auc)",
      "execution_count": null,
      "outputs": []
    },
    {
      "metadata": {
        "_cell_guid": "14dd64d3-66f0-40ed-9ee2-d0a6c4f3d58d",
        "collapsed": true,
        "_uuid": "3433ba23c9adf1db652657ea2167f0bc30bf492d",
        "trusted": false
      },
      "cell_type": "code",
      "source": "plt.title('Receiver Operating Characteristic')\nplt.plot(false_positive_rate, true_positive_rate, 'b', label='AUC = %0.2f'% roc_auc1)\nplt.legend(loc='lower right')\nplt.plot([0,1],[0,1],'r--')\nplt.xlim([-0.1,1.2])\nplt.ylim([-0.1,1.2])\nplt.ylabel('True Positive Rate')\nplt.xlabel('False Positive Rate')",
      "execution_count": null,
      "outputs": []
    },
    {
      "metadata": {
        "_cell_guid": "3fad0479-c446-4e85-992c-dd173e928766",
        "collapsed": true,
        "_uuid": "4cff036c73f2c2ee327ad480d7c062a8ae2c0632",
        "trusted": false
      },
      "cell_type": "code",
      "source": "clf_smote.oob_score_",
      "execution_count": null,
      "outputs": []
    },
    {
      "metadata": {
        "_cell_guid": "41da7138-85f7-4186-ba24-839a0713c3a4",
        "collapsed": true,
        "_uuid": "b063753e14826b01a4f086401e516eb699ca1adb",
        "trusted": false
      },
      "cell_type": "code",
      "source": "#target_names = ['class 0', 'class 1']\nprint (classification_report(y_test, predictionsrf))",
      "execution_count": null,
      "outputs": []
    },
    {
      "metadata": {
        "_cell_guid": "21991122-f95d-4c17-8aaa-a00ed956547b",
        "_uuid": "80f71a53390d22d0ffee606614b4b9b7cacb947b"
      },
      "cell_type": "markdown",
      "source": "<h2>Random Forest on undersampled data (tomeklinks)"
    },
    {
      "metadata": {
        "_cell_guid": "18f9a4fd-b19c-407f-b2dc-4da0ec976298",
        "collapsed": true,
        "_uuid": "0819b249e585386790bc755e7835607df675dc9d",
        "trusted": false
      },
      "cell_type": "code",
      "source": "# https://blog.dominodatalab.com/imbalanced-datasets/\ntLinks = TomekLinks(return_indices = True)\nX_tl, y_tl, id_tl = tLinks.fit_sample(x_train, y_train)",
      "execution_count": null,
      "outputs": []
    },
    {
      "metadata": {
        "_cell_guid": "dcae591b-e3bd-4ac9-87d6-53dd92cb6e94",
        "collapsed": true,
        "_uuid": "8d3d877d0e8a61ee6baf40cc72e0fe91361eca1e",
        "trusted": false
      },
      "cell_type": "code",
      "source": "#perform random forest on oversampled dataset\n#clf_smote = RandomForestClassifier(n_estimators=50, random_state=0, n_jobs=-1, oob_score=True, max_depth=3, max_leaf_nodes= 10, min_samples_leaf=3, min_samples_split=10, min_weight_fraction_leaf= 0.1)\nclf_tomek=RandomForestClassifier(n_estimators=8, random_state=0, n_jobs=-1, oob_score=True, max_depth=3, max_leaf_nodes= 10, min_samples_leaf=3, min_samples_split=10, min_weight_fraction_leaf= 0.1,class_weight=\"balanced\")\nclf_tomek.fit(X_tl, y_tl)",
      "execution_count": null,
      "outputs": []
    },
    {
      "metadata": {
        "_cell_guid": "0ab20252-d75c-4fcd-af30-9dbaae949b1b",
        "collapsed": true,
        "_uuid": "b6aea093ed1284dc574d3cff3c63fc7ed82b96f9",
        "trusted": false
      },
      "cell_type": "code",
      "source": "probabilitiestom=clf_tomek.predict_proba(x_test)\npredictionstom=clf_tomek.predict(x_test)",
      "execution_count": null,
      "outputs": []
    },
    {
      "metadata": {
        "_cell_guid": "1b603828-5e51-4cda-9800-a836addc667c",
        "collapsed": true,
        "_uuid": "951a5ce9de7b1a5e8773f85394d6e43a667c23e7",
        "trusted": false
      },
      "cell_type": "code",
      "source": "confusion_matrix(y_test,predictionstom)",
      "execution_count": null,
      "outputs": []
    },
    {
      "metadata": {
        "_cell_guid": "e768047e-697b-42bb-ab87-9a80ac8e5846",
        "collapsed": true,
        "_uuid": "ac341747dfd2c764d7269ddf7e8a93654b11660c",
        "trusted": false
      },
      "cell_type": "code",
      "source": "#fpr_rf, tpr_rf, thresholds_rf = roc_curve(y_test,Y_pred_proba_rf[:,1],pos_label = 1) -> for prediction probabilities roc curve\n#false_positive_rate, true_positive_rate, thresholds = roc_curve(y_test,probabilitiestom[:,1])\nfalse_positive_rate, true_positive_rate, thresholds = roc_curve(y_test,predictionstom)\nroc_auc2 = auc(false_positive_rate, true_positive_rate)\nprint (roc_auc2)",
      "execution_count": null,
      "outputs": []
    },
    {
      "metadata": {
        "_cell_guid": "834ffa95-8eeb-4ce5-a817-b2e8373b574a",
        "collapsed": true,
        "_uuid": "3fcb83399c976779b4eaea00c96a3ce02926ee0d",
        "trusted": false
      },
      "cell_type": "code",
      "source": "#target_names = ['class 0', 'class 1']\nprint (classification_report(y_test, predictionstom))",
      "execution_count": null,
      "outputs": []
    },
    {
      "metadata": {
        "_cell_guid": "8c8e9634-289b-45c8-9baf-701d12218c62",
        "collapsed": true,
        "_uuid": "f0691393cc8eaf3a21a3a952e89b30ae78631af8"
      },
      "cell_type": "markdown",
      "source": "<h2> AdaBoost  on oversampled data</h2>"
    },
    {
      "metadata": {
        "_cell_guid": "2e1fe09d-2b8a-4f51-a466-d522de85c9fb",
        "collapsed": true,
        "_uuid": "2ca3f0f3d50f2553263e49294b7a4d3e85e789e0"
      },
      "cell_type": "markdown",
      "source": "Test below - no feature selection at all  to see how RF performs then.  - according to https://www.kaggle.com/chtaret/fraud-detection-with-smote-and-randomforest/notebook"
    },
    {
      "metadata": {
        "_cell_guid": "082daa94-9cd0-4d18-9616-18035fe0f108",
        "collapsed": true,
        "_uuid": "be33aeef71540683cdfa14b82cfb18721e7d11d3",
        "trusted": false
      },
      "cell_type": "code",
      "source": "oversampler=SMOTE(random_state=0)\nos_x,os_labels=oversampler.fit_sample(x_train,y_train)",
      "execution_count": null,
      "outputs": []
    },
    {
      "metadata": {
        "_cell_guid": "4cd7bb6e-ebeb-4159-878e-bf95ebe73843",
        "collapsed": true,
        "_uuid": "5967ac17e39397d303afd8c957c0f45e593ca366",
        "trusted": false
      },
      "cell_type": "code",
      "source": "# verify new data set is balanced\nlen(os_x[os_x==0])",
      "execution_count": null,
      "outputs": []
    },
    {
      "metadata": {
        "_cell_guid": "c38abff4-f0b3-4000-bdb9-f557c4c5d282",
        "collapsed": true,
        "_uuid": "901be51ef5d45efefa574acea3b7948cbcf6f65b",
        "trusted": false
      },
      "cell_type": "code",
      "source": "# try adaboost\n#decisionada = DecisionTreeClassifier(max_depth=1, max_features=3)#,criterion='gini', splitter='best' \nadab = AdaBoostClassifier(n_estimators=5, random_state=0, learning_rate=1,  base_estimator=clf_smote)#,\nadab.fit(os_x, os_labels)\n#adab.fit(X_resampled, y_resampled)",
      "execution_count": null,
      "outputs": []
    },
    {
      "metadata": {
        "_cell_guid": "c542614c-0e70-457f-8b21-5911d9a1be36",
        "collapsed": true,
        "_uuid": "92a0c9c5b5b43269d36c0e8fb254c02d54e1117b",
        "trusted": false
      },
      "cell_type": "code",
      "source": "predictionsad=adab.predict(x_test)",
      "execution_count": null,
      "outputs": []
    },
    {
      "metadata": {
        "_cell_guid": "67f0945d-e23d-49ea-a624-fd9ccba9bbab",
        "collapsed": true,
        "_uuid": "581b5d830deeea5ac2ccfa4d644fd5306bf5a9ed",
        "trusted": false
      },
      "cell_type": "code",
      "source": "confusion_matrix(y_test,predictionsad)",
      "execution_count": null,
      "outputs": []
    },
    {
      "metadata": {
        "_cell_guid": "caefd018-65e3-41de-b2de-ed524dcee890",
        "collapsed": true,
        "_uuid": "800fdf325e65e2ce20b2978113c64c1147abc05d",
        "trusted": false
      },
      "cell_type": "code",
      "source": "false_positive_rate, true_positive_rate, thresholds = roc_curve(y_test, predictionsad)\nroc_auc = auc(false_positive_rate, true_positive_rate)\nprint (roc_auc)",
      "execution_count": null,
      "outputs": []
    },
    {
      "metadata": {
        "_cell_guid": "1391e9f8-8762-44d9-b147-62b3d978a5f8",
        "collapsed": true,
        "_uuid": "038cb3eed74ea1884dd935d31d068e5cb2e0c35a",
        "trusted": false
      },
      "cell_type": "code",
      "source": "plt.title('Receiver Operating Characteristic')\nplt.plot(false_positive_rate, true_positive_rate, 'b', label='AUC = %0.2f'% roc_auc)\nplt.legend(loc='lower right')\nplt.plot([0,1],[0,1],'r--')\nplt.xlim([-0.1,1.2])\nplt.ylim([-0.1,1.2])\nplt.ylabel('True Positive Rate')\nplt.xlabel('False Positive Rate')",
      "execution_count": null,
      "outputs": []
    },
    {
      "metadata": {
        "_cell_guid": "c9867e40-bf6d-4606-885d-567c2a3887e6",
        "collapsed": true,
        "_uuid": "5dca84bbb6c4a597318311b1c3bfc181fb5fd655",
        "trusted": false
      },
      "cell_type": "code",
      "source": "target_names=['class 0', 'class 1']\nprint (classification_report(y_test, predictionsad, target_names=target_names))",
      "execution_count": null,
      "outputs": []
    },
    {
      "metadata": {
        "_cell_guid": "bea2bb0b-c753-4b1f-98c4-e858c5634dbe",
        "collapsed": true,
        "_uuid": "099ceee315748f06a04d1650bb87b914fe512802",
        "trusted": false
      },
      "cell_type": "code",
      "source": "# fit model no training data\nskf = StratifiedKFold(n_splits=3, shuffle=True,random_state=3)\nfor train_cv, test_cv in skf.split(train, label):\n#for train_cv, test_cv in cross_validation.KFold(len(train), n_folds=5):\n        x_train = train.iloc[train_cv]\n        y_train = label.iloc[train_cv]\n        x_test = train.iloc[test_cv]\n        y_test = label.iloc[test_cv]\n        \n        #create new train dataset and response dataset to have equal observations\n        X_resampled, y_resampled = SMOTE().fit_sample(x_train, y_train)\n        print(sorted(Counter(y_resampled).items()))\n        \n        #perform random forest on oversampled dataset\n        model =  AdaBoostClassifier()\n        model.fit(X_resampled, y_resampled)\n    \n        predictions = model.predict_proba(x_test) # don't use proba for imbalanced - see https://svds.com/learning-imbalanced-classes/\n        #predictions = [round(value) for value in y_pred]\n        #print (classification_report(y_test, predictions))\n        false_positive_rate, true_positive_rate, thresholds = roc_curve(y_test, predictions[:,1])\n        roc_auc = auc(false_positive_rate, true_positive_rate)\n        print (roc_auc)",
      "execution_count": null,
      "outputs": []
    },
    {
      "metadata": {
        "_cell_guid": "e05b73a6-b206-41e2-9784-8317b3f65537",
        "_uuid": "70f9ca1de9b76aa42d6e7257d224b25d688a1ed5"
      },
      "cell_type": "markdown",
      "source": "<h3>Plot decision tree "
    },
    {
      "metadata": {
        "_cell_guid": "9f31362a-4aa4-42d8-b4d1-9d29cde8ea6d",
        "collapsed": true,
        "_uuid": "03f9b4ef1731f86f74bbd9c8d26e5c98169d31c6",
        "trusted": false
      },
      "cell_type": "code",
      "source": "from sklearn import tree",
      "execution_count": null,
      "outputs": []
    },
    {
      "metadata": {
        "_cell_guid": "7ff5f342-bcee-4e27-bd0a-d541809b947a",
        "collapsed": true,
        "_uuid": "e815c9ee212f4a36c2fd6469e831bbbdc5049f98",
        "trusted": false
      },
      "cell_type": "code",
      "source": "decisionada = tree.DecisionTreeClassifier(max_depth=1, max_leaf_nodes=10,class_weight=\"balanced\")#,criterion='gini', splitter='best' ",
      "execution_count": null,
      "outputs": []
    },
    {
      "metadata": {
        "_cell_guid": "52c8bb9a-d53b-461b-9fbe-d7d1f7169911",
        "_uuid": "50074d4ff8483021828eb5ebbca3b55f4075ca4b",
        "trusted": false,
        "collapsed": true
      },
      "cell_type": "code",
      "source": "decisionada.fit(x_train,y_train)",
      "execution_count": null,
      "outputs": []
    },
    {
      "metadata": {
        "_cell_guid": "feb8bd27-33b2-48b3-bc1b-5b34f46b7553",
        "_uuid": "0ee4a1332c8c24acc71c8a2a7ce9b078c55e6f90",
        "trusted": false,
        "collapsed": true
      },
      "cell_type": "code",
      "source": "import graphviz\ndot_data = tree.export_graphviz(decisionada, out_file=None) \ngraph = graphviz.Source(dot_data)\ngraph",
      "execution_count": null,
      "outputs": []
    },
    {
      "metadata": {
        "_cell_guid": "61fb87a5-0639-4a45-813b-0eb78a2231f1",
        "_uuid": "847fdcfff7a1000e30c48075620a29cbbd1beb9e"
      },
      "cell_type": "markdown",
      "source": "<h3>Adaboost on undersampled data"
    },
    {
      "metadata": {
        "_cell_guid": "a0685b07-3645-43ef-b94a-736515c0f021",
        "collapsed": true,
        "_uuid": "4031d6faa3e9527286adfade7121d986631cd831",
        "trusted": false
      },
      "cell_type": "code",
      "source": "#decision stump\ndecisionada = DecisionTreeClassifier(max_depth=1, max_features=3, class_weight=\"balanced\", min_samples_leaf=15, max_leaf_nodes=20)#,criterion='gini', splitter='best' \n\n#DecisionTreeClassifier(class_weight='balanced', criterion='gini', max_depth=1,\n#             max_features=3, max_leaf_nodes=None, min_impurity_decrease=0.0,\n#             min_impurity_split=None, min_samples_leaf=1,\n#             min_samples_split=2, min_weight_fraction_leaf=0.0,\n#             presort=False, random_state=None, splitter='best')",
      "execution_count": null,
      "outputs": []
    },
    {
      "metadata": {
        "_cell_guid": "3e0a2dc3-a8bb-4649-8d34-6872c30e637b",
        "collapsed": true,
        "_uuid": "206fdb7f516f42d898c7dcc946375180793bdfe4",
        "trusted": false
      },
      "cell_type": "code",
      "source": "# tLinks = TomekLinks(return_indices = True)\n# X_tl, y_tl, id_tl = tLinks.fit_sample(x_train, y_train)\nadab = AdaBoostClassifier(random_state=5, base_estimator=decisionada,n_estimators=100)#clf_tomek\nadab.fit(X_tl, y_tl)\n",
      "execution_count": null,
      "outputs": []
    },
    {
      "metadata": {
        "_cell_guid": "d179fbaf-af8d-4ffc-b98b-88b063f43b97",
        "collapsed": true,
        "_uuid": "f2f316a66fd7321a3e565377fcc1c78c505b2399",
        "trusted": false
      },
      "cell_type": "code",
      "source": "predictionsad=adab.predict(x_test)\nprobabilitiesada=adab.predict_proba(x_test)",
      "execution_count": null,
      "outputs": []
    },
    {
      "metadata": {
        "_cell_guid": "a7116f4f-4f64-4eb2-a7b3-091f606f48f0",
        "collapsed": true,
        "_uuid": "3ebe41e3913ec53317c0446f405fd380dd15ad2e",
        "trusted": false
      },
      "cell_type": "code",
      "source": "confusion_matrix(y_test,predictionsad)",
      "execution_count": null,
      "outputs": []
    },
    {
      "metadata": {
        "_cell_guid": "e39324c7-b4bf-4b44-a344-02cd13179c0a",
        "collapsed": true,
        "_uuid": "8dcf82c6fcb15ab1fee8e06a587f761d87f195e7",
        "trusted": false
      },
      "cell_type": "code",
      "source": "false_positive_rate, true_positive_rate, thresholds = roc_curve(y_test, predictionsad)\nroc_auc = auc(false_positive_rate, true_positive_rate)\nprint (roc_auc)",
      "execution_count": null,
      "outputs": []
    },
    {
      "metadata": {
        "_cell_guid": "74b1933e-5468-438a-836e-6c7a43e526aa",
        "collapsed": true,
        "_uuid": "51a77447bb938c9dd1f6c81d171f6242c29c8ae0",
        "trusted": false
      },
      "cell_type": "code",
      "source": "target_names=['class 0', 'class 1']\nprint (classification_report(y_test, predictionsad, target_names=target_names))",
      "execution_count": null,
      "outputs": []
    },
    {
      "metadata": {
        "_cell_guid": "8d8ec44e-0974-4616-876b-0157b88c4057",
        "_uuid": "4f45c677935d77ec9b09418c273e00dcefc2ffbf"
      },
      "cell_type": "markdown",
      "source": "<h2>Find optimal hyper parameters </h2>- \ntutoral used"
    },
    {
      "metadata": {
        "_cell_guid": "853d9729-4640-43cc-9387-5373a69d7ced",
        "collapsed": true,
        "_uuid": "9a404fdf49f3ec0edd3aa91feda0874e752d2e35",
        "trusted": false
      },
      "cell_type": "code",
      "source": "#not used in thesis - just to try out. code used from https://www.kaggle.com/hadend/tuning-random-forest-parameters\nfrom operator import itemgetter\n\n# Utility function to report best scores\ndef report(grid_scores, n_top):\n    top_scores = sorted(grid_scores, key=itemgetter(1), reverse=True)[:n_top]\n    for i, score in enumerate(top_scores):\n        print(\"Model with rank: {0}\".format(i + 1))\n        print(\"Mean validation score: {0:.4f})\".format(\n              score.mean_validation_score,\n              np.std(score.cv_validation_scores)))\n        print(\"Parameters: {0}\".format(score.parameters))\n        print(\"\")",
      "execution_count": null,
      "outputs": []
    },
    {
      "metadata": {
        "_cell_guid": "c08a84b6-360f-427e-9c55-f8d9772ce0e7",
        "collapsed": true,
        "_uuid": "1b9f0814425f4f7afc5a9b703bcb1da5dacfe972",
        "trusted": false
      },
      "cell_type": "code",
      "source": "tri = RandomForestClassifier(random_state=3)",
      "execution_count": null,
      "outputs": []
    },
    {
      "metadata": {
        "_cell_guid": "9449a6f6-a290-4312-bd44-c2fc55069780",
        "collapsed": true,
        "_uuid": "cda8dba91552e6ca2f67e36ce67c2bd52978adf2",
        "trusted": false
      },
      "cell_type": "code",
      "source": "param_grid = {\"n_estimators\": [8, 10, 18, 22],\n              \"max_depth\": [3, 5, 7],\n              \"min_samples_split\": [10, 15, 20],\n              \"min_samples_leaf\": [3, 5, 10, 20],\n              \"max_leaf_nodes\": [10, 20, 40],\n              \"min_weight_fraction_leaf\": [0.1]}",
      "execution_count": null,
      "outputs": []
    },
    {
      "metadata": {
        "_cell_guid": "51e8333a-37ce-4169-b7cf-cfe96d22acb2",
        "collapsed": true,
        "_uuid": "a2e89d78f1530b8f37c8aedca744fe3a9a40e90c",
        "trusted": false
      },
      "cell_type": "code",
      "source": "gridscores= grid_search.grid_scores_\nsortg = sorted(gridscores,  key=itemgetter(1),reverse=True)[:4]\nprint (sortg)",
      "execution_count": null,
      "outputs": []
    },
    {
      "metadata": {
        "_cell_guid": "a8596fe9-8f66-43d7-9ca6-109bb7d5f5ce",
        "collapsed": true,
        "_uuid": "4453f49120acceafb386b143d87dd0e5bbecef6a",
        "trusted": false
      },
      "cell_type": "code",
      "source": "\ngrid_search = GridSearchCV(tri, param_grid=param_grid)\ngrid_search.fit(X_resampled, y_resampled)\nreport(grid_search.grid_scores_, 4)",
      "execution_count": null,
      "outputs": []
    },
    {
      "metadata": {
        "_cell_guid": "9694f2fe-fe1f-48a5-9c61-6acdf9b5fd5f",
        "collapsed": true,
        "_uuid": "13e021b7c28d806564fab7532ebe2e2374896c94"
      },
      "cell_type": "markdown",
      "source": "Gridsearch for optimal n in adaboost"
    },
    {
      "metadata": {
        "_cell_guid": "b1c7bc97-4c1a-4f32-bd77-ccb1b196c884",
        "collapsed": true,
        "_uuid": "5dce7f1037812e4d6eafc75f236748508803d2ea",
        "trusted": false
      },
      "cell_type": "code",
      "source": "\n\nparam_grid = {\"base_estimator__criterion\" : [\"gini\", \"entropy\"],\n              \"base_estimator__splitter\" :   [\"best\", \"random\"],\n              \"n_estimators\": [3,5,10]\n             }\n\ndt = DecisionTreeClassifier(random_state = 1, max_features = \"auto\", max_depth =3)\n\nadag = AdaBoostClassifier(base_estimator = dt)\ngrid_search = GridSearchCV(adag, param_grid=param_grid)\ngrid_search.fit(X_resampled, y_resampled)\nreport(grid_search.grid_scores_, 4)",
      "execution_count": null,
      "outputs": []
    },
    {
      "metadata": {
        "_cell_guid": "43dff473-af1e-4123-99d6-aed68fb37381",
        "collapsed": true,
        "_uuid": "b8f0ac728440095f314c228df2d27291ecf09265",
        "trusted": false
      },
      "cell_type": "code",
      "source": "report(grid_search.grid_scores_, 4)",
      "execution_count": null,
      "outputs": []
    },
    {
      "metadata": {
        "_cell_guid": "c8d020d1-8be6-4a64-a9a3-225410b59c44",
        "_uuid": "808fa456221468db85a5ada4c08f95ba3d7bb78b"
      },
      "cell_type": "markdown",
      "source": "<h3> gini Computation - as a metric </h3>"
    },
    {
      "metadata": {
        "_cell_guid": "5187b872-04ba-4b78-bf31-3e1b1a4db33e",
        "collapsed": true,
        "_uuid": "a4ee59d4642e47582c278f4427fa2d19d220ba67",
        "trusted": false
      },
      "cell_type": "code",
      "source": "# Compute gini\n\n# from CPMP's kernel https://www.kaggle.com/cpmpml/extremely-fast-gini-computation\ndef eval_gini(y_true, y_prob):\n    y_true = np.asarray(y_true)\n    y_true = y_true[np.argsort(y_prob)]\n    ntrue = 0\n    gini = 0\n    delta = 0\n    n = len(y_true)\n    for i in range(n-1, -1, -1):\n        y_i = y_true[i]\n        ntrue += y_i\n        gini += y_i * delta\n        delta += 1 - y_i\n    gini = 1 - 2 * gini / (ntrue * (n - ntrue))\n    return gini",
      "execution_count": null,
      "outputs": []
    },
    {
      "metadata": {
        "_cell_guid": "2b7a2779-4cee-421d-8f8f-29ae684cf97a",
        "collapsed": true,
        "_uuid": "aba85593fe083699d6cbdb3facd692b3b637d28e",
        "trusted": false
      },
      "cell_type": "code",
      "source": "gini_score = eval_gini(y_test, predictionsad)\nprint ('gini', gini_score)",
      "execution_count": null,
      "outputs": []
    },
    {
      "metadata": {
        "_cell_guid": "37c2a1db-5c8c-41a2-bd98-ad8fd062cc61",
        "collapsed": true,
        "_uuid": "95d66f60d4f9f0fd440ff63d473cd1b5d623b1ee",
        "trusted": false
      },
      "cell_type": "code",
      "source": "",
      "execution_count": null,
      "outputs": []
    },
    {
      "metadata": {
        "_cell_guid": "40b191b5-6e64-49a6-9132-a0588c6f07b0",
        "collapsed": true,
        "_uuid": "5d46c5e087af04dc370adab2732dee2782fb9c70",
        "trusted": false
      },
      "cell_type": "code",
      "source": "",
      "execution_count": null,
      "outputs": []
    },
    {
      "metadata": {
        "_cell_guid": "2585549a-557b-4f8a-a524-811d7ec41547",
        "collapsed": true,
        "_uuid": "076dc727206c4d70fabc3d4a6dfaf0beeb737f06"
      },
      "cell_type": "markdown",
      "source": "<h2>XGBOOST\n"
    },
    {
      "metadata": {
        "_cell_guid": "c63d4b33-5570-42b6-8663-5d8893adb3e4",
        "collapsed": true,
        "_uuid": "4b07f2d6aaff3fd4d8ad2f4d172c47e7642f5c5f",
        "trusted": false
      },
      "cell_type": "code",
      "source": "from sklearn.model_selection import StratifiedKFold\nimport xgboost as xgb\n",
      "execution_count": null,
      "outputs": []
    },
    {
      "metadata": {
        "_cell_guid": "d28f587c-9245-44a5-9a8b-639a37962b62",
        "collapsed": true,
        "_uuid": "ef0ee22d2eafadad538bbd36a88245664e7dd05c",
        "trusted": false
      },
      "cell_type": "code",
      "source": "x=train.values\ny=label.values",
      "execution_count": null,
      "outputs": []
    },
    {
      "metadata": {
        "_cell_guid": "9dab321c-876f-4ae4-9948-7dd1e9a363ea",
        "collapsed": true,
        "_uuid": "5b4ec207141a9a0f6ada44b52ad4d6b0fca19aed",
        "trusted": false
      },
      "cell_type": "code",
      "source": "x_train, x_valid, y_train, y_valid = cross_validation.train_test_split(train, label, test_size=0.2, random_state=12)\nprint('Train samples: {} Validation samples: {}'.format(len(x_train), len(x_valid)))",
      "execution_count": null,
      "outputs": []
    },
    {
      "metadata": {
        "_cell_guid": "4db416b0-86bf-40f5-8083-80f798d286a0",
        "collapsed": true,
        "_uuid": "b16c1fd7a690f5f7cde710ac1be1fda3a2ae8af9",
        "trusted": false
      },
      "cell_type": "code",
      "source": "#create new train dataset and response dataset to have equal observations\nX_resampled, y_resampled = SMOTE().fit_sample(x_train, y_train)\nprint(sorted(Counter(y_resampled).items()))",
      "execution_count": null,
      "outputs": []
    },
    {
      "metadata": {
        "_cell_guid": "89312d59-77ad-4336-be1b-fe5c925087eb",
        "collapsed": true,
        "_uuid": "03436f067d09cf98dee158c45327350c873824b8",
        "trusted": false
      },
      "cell_type": "code",
      "source": "from sklearn.model_selection import StratifiedKFold\n\n# fit model no training data\nskf = StratifiedKFold(n_splits=3, shuffle=True,random_state=3)\ntarget_names=['class 0', 'class 1']\nfor train_index, test_index in skf.split(trainnewweka, label):\n#for train_cv, test_cv in cross_validation.KFold(len(train), n_folds=5):\n        x_train = train.iloc[train_index]\n        y_train = label.iloc[train_index]\n        x_test = train.iloc[test_index]\n        y_test = label.iloc[test_index]\n        \n        #create new train dataset and response dataset to have equal observations\n       # X_resampled, y_resampled = SMOTE().fit_sample(x_train, y_train)\n        #print(sorted(Counter(y_resampled).items()))\n        \n        #undersampling\n        tLinks = TomekLinks(return_indices = True)\n        X_resampled, y_resampled, id_tl = tLinks.fit_sample(x_train, y_train)\n        print(sorted(Counter(y_resampled).items()))\n        \n        #perform random forest on oversampled dataset\n        model = RandomForestClassifier(n_estimators=8, random_state=0, n_jobs=-1, max_depth=3, max_leaf_nodes= 10, min_samples_leaf=3, min_samples_split=10, min_weight_fraction_leaf= 0.1, class_weight=\"balanced\")\n        model.fit(X_resampled, y_resampled)\n    \n        #y_pred = model.predict_proba(x_test) # don't use proba for imbalanced - see https://svds.com/learning-imbalanced-classes/\n        predictions = model.predict(x_test)\n        print (classification_report(y_test, predictions, target_names=target_names))\n        false_positive_rate, true_positive_rate, thresholds = roc_curve(y_test, predictions)\n        roc_auc = auc(false_positive_rate, true_positive_rate)\n        print (roc_auc)\n\n\n\n# model = XGBClassifier(min_child_weight=10, objective='binary:logistic', max_depth= 7, max_delta_step=1.8, subsample=0.81, colsample_bytree=0.4,eta= 0.025,\n#     gamma= 0.65, num_boost_round=700, random_state=4)\n# model.fit(x_train, y_train)",
      "execution_count": null,
      "outputs": []
    },
    {
      "metadata": {
        "_cell_guid": "fe5bf4ad-9c6b-4b9c-adf6-84b5d681fda0",
        "collapsed": true,
        "_uuid": "fb83a58219c9849496e0540626fb1af6d630a278",
        "trusted": false
      },
      "cell_type": "code",
      "source": "y_pred = model.predict(x_valid)\npredictions = [round(value) for value in y_pred]",
      "execution_count": null,
      "outputs": []
    },
    {
      "metadata": {
        "_cell_guid": "0512a4d2-0342-476b-a0f7-7bf847276c39",
        "collapsed": true,
        "_uuid": "4ae0ab5e5e06ce1401d5d88dee24681a4fa4e852",
        "trusted": false
      },
      "cell_type": "code",
      "source": "# evaluate predictions\naccuracy = accuracy_score(y_valid, predictions)\nprint(\"Accuracy: %.2f%%\" % (accuracy * 100.0))",
      "execution_count": null,
      "outputs": []
    },
    {
      "metadata": {
        "_cell_guid": "e48dc22a-8660-45a0-8370-79d8e294cec2",
        "collapsed": true,
        "_uuid": "93000493368869ac6773b643f2137e3af02f2798",
        "trusted": false
      },
      "cell_type": "code",
      "source": "confusion_matrix(y_valid,predictions)",
      "execution_count": null,
      "outputs": []
    },
    {
      "metadata": {
        "_cell_guid": "9b36b110-1b22-492c-bac4-765ab6e96fe5",
        "collapsed": true,
        "_uuid": "a3dcee53ec05664aa552f238ff2c9d8a746e2a9e",
        "trusted": false
      },
      "cell_type": "code",
      "source": "false_positive_rate, true_positive_rate, thresholds = roc_curve(y_valid, predictions)\nroc_auc = auc(false_positive_rate, true_positive_rate)\nprint (roc_auc)",
      "execution_count": null,
      "outputs": []
    },
    {
      "metadata": {
        "_cell_guid": "0a197867-ad3d-4589-8303-5fa9320b5dae",
        "collapsed": true,
        "_uuid": "bb681533d2bab29f0e2f865396be430cd2f82908",
        "trusted": false
      },
      "cell_type": "code",
      "source": "target_names=['class 0', 'class 1']\nprint (classification_report(y_valid, predictions, target_names=target_names))",
      "execution_count": null,
      "outputs": []
    },
    {
      "metadata": {
        "_cell_guid": "d6fbd613-5d50-4a6b-9f20-5d6a3a5923b6",
        "collapsed": true,
        "_uuid": "6acb7da3366f87cc8001617496270d9efda12737",
        "trusted": false
      },
      "cell_type": "code",
      "source": "",
      "execution_count": null,
      "outputs": []
    },
    {
      "metadata": {
        "_cell_guid": "a035da3c-c1ed-410f-99c1-a41be539e370",
        "collapsed": true,
        "_uuid": "633bca90103ac931e52052772da4ed7d40a86dbb",
        "trusted": false
      },
      "cell_type": "code",
      "source": "# Convert our data into XGBoost format\nd_train = xgb.DMatrix(x_train, y_train)\nd_valid = xgb.DMatrix(x_valid, y_valid)",
      "execution_count": null,
      "outputs": []
    },
    {
      "metadata": {
        "_cell_guid": "661255b4-c45a-482c-b747-70a0710d4495",
        "collapsed": true,
        "_uuid": "5fea42c1972e8eb36c81a7a8b5e243fb73789081",
        "trusted": false
      },
      "cell_type": "code",
      "source": "#see https://www.kaggle.com/sudosudoohio/stratified-kfold-xgboost-eda-tutorial-0-281\nparams = {\n    'min_child_weight': 10.0,\n    'objective': 'binary:logistic',\n    'max_depth': 7,\n    'max_delta_step': 1.8,\n    'colsample_bytree': 0.4,\n    'subsample': 0.8,\n    'eta': 0.025,\n    'gamma': 0.65,\n    'num_boost_round' : 700\n    }",
      "execution_count": null,
      "outputs": []
    },
    {
      "metadata": {
        "_cell_guid": "de5ce007-f05a-48de-9363-06e7dba67a45",
        "collapsed": true,
        "_uuid": "6b218aba221fc2125152040a86923a4ba27dfec9",
        "trusted": false
      },
      "cell_type": "code",
      "source": "# Define the gini metric - from https://www.kaggle.com/c/ClaimPredictionChallenge/discussion/703#5897\ndef gini(actual, pred, cmpcol = 0, sortcol = 1):\n    assert( len(actual) == len(pred) )\n    all = np.asarray(np.c_[ actual, pred, np.arange(len(actual)) ], dtype=np.float)\n    all = all[ np.lexsort((all[:,2], -1*all[:,1])) ]\n    totalLosses = all[:,0].sum()\n    giniSum = all[:,0].cumsum().sum() / totalLosses\n    \n    giniSum -= (len(actual) + 1) / 2.\n    return giniSum / len(actual)\n \ndef gini_normalized(a, p):\n    return gini(a, p) / gini(a, a)\n\ndef gini_xgb(preds, dtrain):\n    labels = dtrain.get_label()\n    gini_score = gini_normalized(labels, preds)\n    return 'gini', gini_score",
      "execution_count": null,
      "outputs": []
    },
    {
      "metadata": {
        "_cell_guid": "5d778398-bba4-41e6-a157-10198be2d962",
        "collapsed": true,
        "_uuid": "e0cf555978253f79880e0f6df017f2d1393ad2f2",
        "trusted": false
      },
      "cell_type": "code",
      "source": "# data to test after each round - see github for more details\nwatchlist = [(d_train, 'train'), (d_valid, 'valid')]",
      "execution_count": null,
      "outputs": []
    },
    {
      "metadata": {
        "_cell_guid": "72d96035-b786-486e-9232-d61793e66bde",
        "collapsed": true,
        "_uuid": "7cf2ae2f3bda9ec38890fb21ad3ea592df9c14a6",
        "trusted": false
      },
      "cell_type": "code",
      "source": "#rain the model! We pass in a max of 10,000 rounds (with early stopping after 100)\n# and the custom metric (maximize=True tells xgb that higher metric is better)\nmdl = xgb.train(params, d_train, 10000, watchlist, early_stopping_rounds=100, feval=gini_xgb, maximize=True, verbose_eval=10)",
      "execution_count": null,
      "outputs": []
    },
    {
      "metadata": {
        "_cell_guid": "c73c57fe-3989-41a3-8766-1ca0fa902a50",
        "collapsed": true,
        "_uuid": "8c5c836a2ccc5a615667313b12aee217e4d7a713",
        "trusted": false
      },
      "cell_type": "code",
      "source": "predict=md1.predict(d_valid)\n",
      "execution_count": null,
      "outputs": []
    },
    {
      "metadata": {
        "_cell_guid": "fcf5d5b8-edb9-479d-b07e-c01de692cdd1",
        "collapsed": true,
        "_uuid": "be44542f879814f1d85e013c98d073b938c3fa49",
        "trusted": false
      },
      "cell_type": "code",
      "source": "# https://www.kaggle.com/anokas/simple-xgboost-btb-0-27\nfor i, (train_index, test_index) in enumerate(skf.split(X, y)):\n    print('[Fold %d/%d]' % (i + 1, kfold))\n    X_train, X_valid = X[train_index], X[test_index]\n    y_train, y_valid = y[train_index], y[test_index]\n    # Convert our data into XGBoost format\n    d_train = xgb.DMatrix(X_train, y_train)\n    d_valid = xgb.DMatrix(X_valid, y_valid)\n    #d_test = xgb.DMatrix(test.values)\n    watchlist = [(d_train, 'train'), (d_valid, 'valid')]\n\n    # Train the model! We pass in a max of 1,600 rounds (with early stopping after 70)\n    # and the custom metric (maximize=True tells xgb that higher metric is better)\n    mdl = xgb.train(params, d_train, 1600, watchlist, early_stopping_rounds=70, feval=gini_xgb, maximize=True, verbose_eval=100)\n\n    print('[Fold %d/%d Prediciton:]' % (i + 1, kfold))\n    # Predict on our test data\n   # p_test = mdl.predict(d_test, ntree_limit=mdl.best_ntree_limit)\n    #sub['target'] += p_test/kfold",
      "execution_count": null,
      "outputs": []
    },
    {
      "metadata": {
        "_cell_guid": "da6f2d5f-8300-4a23-afef-581d4190d40b",
        "collapsed": true,
        "_uuid": "0aa42d226c4a99d3fdf03c111b74ad8c8ac96b24",
        "trusted": false
      },
      "cell_type": "code",
      "source": "",
      "execution_count": null,
      "outputs": []
    }
  ],
  "metadata": {
    "language_info": {
      "name": "python",
      "version": "3.6.4",
      "mimetype": "text/x-python",
      "codemirror_mode": {
        "name": "ipython",
        "version": 3
      },
      "pygments_lexer": "ipython3",
      "nbconvert_exporter": "python",
      "file_extension": ".py"
    },
    "kernelspec": {
      "display_name": "Python 3",
      "language": "python",
      "name": "python3"
    }
  },
  "nbformat": 4,
  "nbformat_minor": 1
}